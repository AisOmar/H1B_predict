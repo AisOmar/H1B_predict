{
 "cells": [
  {
   "cell_type": "markdown",
   "metadata": {},
   "source": [
    "#### Getting data "
   ]
  },
  {
   "cell_type": "code",
   "execution_count": 396,
   "metadata": {},
   "outputs": [],
   "source": [
    "import pandas as pd \n",
    "\n",
    "df = pd.read_csv('Master_H1b.csv', encoding='latin-1')\n",
    "\n",
    "\n",
    "df.to_csv('Master_H1b_clean.csv', index=False)"
   ]
  },
  {
   "cell_type": "code",
   "execution_count": 397,
   "metadata": {},
   "outputs": [],
   "source": [
    "pd.set_option('display.max_rows', 500)\n",
    "pd.set_option('display.max_columns', 500)\n",
    "pd.set_option('display.width', 1000)"
   ]
  },
  {
   "cell_type": "code",
   "execution_count": 398,
   "metadata": {},
   "outputs": [],
   "source": [
    "df = pd.read_csv('Master_H1b_clean.csv')"
   ]
  },
  {
   "cell_type": "code",
   "execution_count": 399,
   "metadata": {},
   "outputs": [
    {
     "data": {
      "text/html": [
       "<div>\n",
       "<style scoped>\n",
       "    .dataframe tbody tr th:only-of-type {\n",
       "        vertical-align: middle;\n",
       "    }\n",
       "\n",
       "    .dataframe tbody tr th {\n",
       "        vertical-align: top;\n",
       "    }\n",
       "\n",
       "    .dataframe thead th {\n",
       "        text-align: right;\n",
       "    }\n",
       "</style>\n",
       "<table border=\"1\" class=\"dataframe\">\n",
       "  <thead>\n",
       "    <tr style=\"text-align: right;\">\n",
       "      <th></th>\n",
       "      <th>CASE_SUBMITTED_DAY</th>\n",
       "      <th>CASE_SUBMITTED_MONTH</th>\n",
       "      <th>CASE_SUBMITTED_YEAR</th>\n",
       "      <th>DECISION_DAY</th>\n",
       "      <th>DECISION_MONTH</th>\n",
       "      <th>DECISION_YEAR</th>\n",
       "      <th>VISA_CLASS</th>\n",
       "      <th>EMPLOYER_NAME</th>\n",
       "      <th>EMPLOYER_STATE</th>\n",
       "      <th>EMPLOYER_COUNTRY</th>\n",
       "      <th>SOC_NAME</th>\n",
       "      <th>NAICS_CODE</th>\n",
       "      <th>TOTAL_WORKERS</th>\n",
       "      <th>FULL_TIME_POSITION</th>\n",
       "      <th>PREVAILING_WAGE</th>\n",
       "      <th>PW_UNIT_OF_PAY</th>\n",
       "      <th>PW_SOURCE</th>\n",
       "      <th>PW_SOURCE_YEAR</th>\n",
       "      <th>PW_SOURCE_OTHER</th>\n",
       "      <th>WAGE_RATE_OF_PAY_FROM</th>\n",
       "      <th>WAGE_RATE_OF_PAY_TO</th>\n",
       "      <th>WAGE_UNIT_OF_PAY</th>\n",
       "      <th>H-1B_DEPENDENT</th>\n",
       "      <th>WILLFUL_VIOLATOR</th>\n",
       "      <th>WORKSITE_STATE</th>\n",
       "      <th>WORKSITE_POSTAL_CODE</th>\n",
       "      <th>CASE_STATUS</th>\n",
       "    </tr>\n",
       "  </thead>\n",
       "  <tbody>\n",
       "    <tr>\n",
       "      <th>0</th>\n",
       "      <td>24</td>\n",
       "      <td>2</td>\n",
       "      <td>2016</td>\n",
       "      <td>1</td>\n",
       "      <td>10</td>\n",
       "      <td>2016</td>\n",
       "      <td>H1B</td>\n",
       "      <td>DISCOVER PRODUCTS INC</td>\n",
       "      <td>IL</td>\n",
       "      <td>UNITED STATES OF AMERICA</td>\n",
       "      <td>ANALYSTS</td>\n",
       "      <td>522210.0</td>\n",
       "      <td>1</td>\n",
       "      <td>Y</td>\n",
       "      <td>59197.0</td>\n",
       "      <td>Year</td>\n",
       "      <td>OES</td>\n",
       "      <td>2015.0</td>\n",
       "      <td>OFLC ONLINE DATA CENTER</td>\n",
       "      <td>65811.0</td>\n",
       "      <td>67320.0</td>\n",
       "      <td>Year</td>\n",
       "      <td>N</td>\n",
       "      <td>N</td>\n",
       "      <td>IL</td>\n",
       "      <td>60015</td>\n",
       "      <td>CERTIFIEDWITHDRAWN</td>\n",
       "    </tr>\n",
       "    <tr>\n",
       "      <th>1</th>\n",
       "      <td>4</td>\n",
       "      <td>3</td>\n",
       "      <td>2016</td>\n",
       "      <td>1</td>\n",
       "      <td>10</td>\n",
       "      <td>2016</td>\n",
       "      <td>H1B</td>\n",
       "      <td>DFS SERVICES LLC</td>\n",
       "      <td>IL</td>\n",
       "      <td>UNITED STATES OF AMERICA</td>\n",
       "      <td>ANALYSTS</td>\n",
       "      <td>522210.0</td>\n",
       "      <td>1</td>\n",
       "      <td>Y</td>\n",
       "      <td>49800.0</td>\n",
       "      <td>Year</td>\n",
       "      <td>Other</td>\n",
       "      <td>2015.0</td>\n",
       "      <td>WILLIS TOWERS WATSON SURVEY</td>\n",
       "      <td>53000.0</td>\n",
       "      <td>57200.0</td>\n",
       "      <td>Year</td>\n",
       "      <td>N</td>\n",
       "      <td>N</td>\n",
       "      <td>IL</td>\n",
       "      <td>60015</td>\n",
       "      <td>CERTIFIEDWITHDRAWN</td>\n",
       "    </tr>\n",
       "    <tr>\n",
       "      <th>2</th>\n",
       "      <td>10</td>\n",
       "      <td>3</td>\n",
       "      <td>2016</td>\n",
       "      <td>1</td>\n",
       "      <td>10</td>\n",
       "      <td>2016</td>\n",
       "      <td>H1B</td>\n",
       "      <td>EASTBANC TECHNOLOGIES LLC</td>\n",
       "      <td>DC</td>\n",
       "      <td>UNITED STATES OF AMERICA</td>\n",
       "      <td>ANALYSTS</td>\n",
       "      <td>541511.0</td>\n",
       "      <td>2</td>\n",
       "      <td>Y</td>\n",
       "      <td>76502.0</td>\n",
       "      <td>Year</td>\n",
       "      <td>OES</td>\n",
       "      <td>2015.0</td>\n",
       "      <td>OFLC ONLINE DATA CENTER</td>\n",
       "      <td>77000.0</td>\n",
       "      <td>0.0</td>\n",
       "      <td>Year</td>\n",
       "      <td>Y</td>\n",
       "      <td>N</td>\n",
       "      <td>DC</td>\n",
       "      <td>20007</td>\n",
       "      <td>CERTIFIEDWITHDRAWN</td>\n",
       "    </tr>\n",
       "    <tr>\n",
       "      <th>3</th>\n",
       "      <td>28</td>\n",
       "      <td>9</td>\n",
       "      <td>2016</td>\n",
       "      <td>1</td>\n",
       "      <td>10</td>\n",
       "      <td>2016</td>\n",
       "      <td>H1B</td>\n",
       "      <td>INFO SERVICES LLC</td>\n",
       "      <td>MI</td>\n",
       "      <td>UNITED STATES OF AMERICA</td>\n",
       "      <td>COMPUTER OCCUPATION</td>\n",
       "      <td>541511.0</td>\n",
       "      <td>1</td>\n",
       "      <td>Y</td>\n",
       "      <td>90376.0</td>\n",
       "      <td>Year</td>\n",
       "      <td>OES</td>\n",
       "      <td>2016.0</td>\n",
       "      <td>OFLC ONLINE DATA CENTER</td>\n",
       "      <td>102000.0</td>\n",
       "      <td>0.0</td>\n",
       "      <td>Year</td>\n",
       "      <td>Y</td>\n",
       "      <td>N</td>\n",
       "      <td>NJ</td>\n",
       "      <td>7302</td>\n",
       "      <td>WITHDRAWN</td>\n",
       "    </tr>\n",
       "    <tr>\n",
       "      <th>4</th>\n",
       "      <td>22</td>\n",
       "      <td>2</td>\n",
       "      <td>2015</td>\n",
       "      <td>2</td>\n",
       "      <td>10</td>\n",
       "      <td>2016</td>\n",
       "      <td>H1B</td>\n",
       "      <td>BBandT CORPORATION</td>\n",
       "      <td>NC</td>\n",
       "      <td>UNITED STATES OF AMERICA</td>\n",
       "      <td>ANALYSTS</td>\n",
       "      <td>522110.0</td>\n",
       "      <td>1</td>\n",
       "      <td>Y</td>\n",
       "      <td>116605.0</td>\n",
       "      <td>Year</td>\n",
       "      <td>OES</td>\n",
       "      <td>2015.0</td>\n",
       "      <td>OFLC ONLINE DATA CENTER</td>\n",
       "      <td>132500.0</td>\n",
       "      <td>0.0</td>\n",
       "      <td>Year</td>\n",
       "      <td>N</td>\n",
       "      <td>N</td>\n",
       "      <td>NY</td>\n",
       "      <td>10036</td>\n",
       "      <td>CERTIFIEDWITHDRAWN</td>\n",
       "    </tr>\n",
       "  </tbody>\n",
       "</table>\n",
       "</div>"
      ],
      "text/plain": [
       "   CASE_SUBMITTED_DAY  CASE_SUBMITTED_MONTH  CASE_SUBMITTED_YEAR  DECISION_DAY  DECISION_MONTH  DECISION_YEAR VISA_CLASS              EMPLOYER_NAME EMPLOYER_STATE          EMPLOYER_COUNTRY             SOC_NAME  NAICS_CODE  TOTAL_WORKERS FULL_TIME_POSITION  PREVAILING_WAGE PW_UNIT_OF_PAY PW_SOURCE  PW_SOURCE_YEAR              PW_SOURCE_OTHER  WAGE_RATE_OF_PAY_FROM  WAGE_RATE_OF_PAY_TO WAGE_UNIT_OF_PAY H-1B_DEPENDENT WILLFUL_VIOLATOR WORKSITE_STATE WORKSITE_POSTAL_CODE         CASE_STATUS\n",
       "0                  24                     2                 2016             1              10           2016        H1B      DISCOVER PRODUCTS INC             IL  UNITED STATES OF AMERICA             ANALYSTS    522210.0              1                  Y          59197.0           Year       OES          2015.0      OFLC ONLINE DATA CENTER                65811.0              67320.0             Year              N                N             IL                60015  CERTIFIEDWITHDRAWN\n",
       "1                   4                     3                 2016             1              10           2016        H1B           DFS SERVICES LLC             IL  UNITED STATES OF AMERICA             ANALYSTS    522210.0              1                  Y          49800.0           Year     Other          2015.0  WILLIS TOWERS WATSON SURVEY                53000.0              57200.0             Year              N                N             IL                60015  CERTIFIEDWITHDRAWN\n",
       "2                  10                     3                 2016             1              10           2016        H1B  EASTBANC TECHNOLOGIES LLC             DC  UNITED STATES OF AMERICA             ANALYSTS    541511.0              2                  Y          76502.0           Year       OES          2015.0      OFLC ONLINE DATA CENTER                77000.0                  0.0             Year              Y                N             DC                20007  CERTIFIEDWITHDRAWN\n",
       "3                  28                     9                 2016             1              10           2016        H1B          INFO SERVICES LLC             MI  UNITED STATES OF AMERICA  COMPUTER OCCUPATION    541511.0              1                  Y          90376.0           Year       OES          2016.0      OFLC ONLINE DATA CENTER               102000.0                  0.0             Year              Y                N             NJ                 7302           WITHDRAWN\n",
       "4                  22                     2                 2015             2              10           2016        H1B         BBandT CORPORATION             NC  UNITED STATES OF AMERICA             ANALYSTS    522110.0              1                  Y         116605.0           Year       OES          2015.0      OFLC ONLINE DATA CENTER               132500.0                  0.0             Year              N                N             NY                10036  CERTIFIEDWITHDRAWN"
      ]
     },
     "execution_count": 399,
     "metadata": {},
     "output_type": "execute_result"
    }
   ],
   "source": [
    "df.head()"
   ]
  },
  {
   "cell_type": "code",
   "execution_count": 400,
   "metadata": {},
   "outputs": [
    {
     "data": {
      "text/plain": [
       "0                            ANALYSTS\n",
       "1                            ANALYSTS\n",
       "2                            ANALYSTS\n",
       "3                 COMPUTER OCCUPATION\n",
       "4                            ANALYSTS\n",
       "                     ...             \n",
       "528129                      SURVEYORS\n",
       "528130                      EDUCATION\n",
       "528131    WRITERS EDITORS AND AUTHORS\n",
       "528132    WRITERS EDITORS AND AUTHORS\n",
       "528133    WRITERS EDITORS AND AUTHORS\n",
       "Name: SOC_NAME, Length: 528134, dtype: object"
      ]
     },
     "execution_count": 400,
     "metadata": {},
     "output_type": "execute_result"
    }
   ],
   "source": [
    "df['SOC_NAME']"
   ]
  },
  {
   "cell_type": "code",
   "execution_count": 10,
   "metadata": {},
   "outputs": [
    {
     "name": "stdout",
     "output_type": "stream",
     "text": [
      "<class 'pandas.core.frame.DataFrame'>\n",
      "RangeIndex: 528134 entries, 0 to 528133\n",
      "Data columns (total 27 columns):\n",
      "CASE_SUBMITTED_DAY       528134 non-null int64\n",
      "CASE_SUBMITTED_MONTH     528134 non-null int64\n",
      "CASE_SUBMITTED_YEAR      528134 non-null int64\n",
      "DECISION_DAY             528134 non-null int64\n",
      "DECISION_MONTH           528134 non-null int64\n",
      "DECISION_YEAR            528134 non-null int64\n",
      "VISA_CLASS               528134 non-null object\n",
      "EMPLOYER_NAME            528095 non-null object\n",
      "EMPLOYER_STATE           528124 non-null object\n",
      "EMPLOYER_COUNTRY         528134 non-null object\n",
      "SOC_NAME                 528134 non-null object\n",
      "NAICS_CODE               528132 non-null float64\n",
      "TOTAL_WORKERS            528134 non-null int64\n",
      "FULL_TIME_POSITION       528131 non-null object\n",
      "PREVAILING_WAGE          528134 non-null float64\n",
      "PW_UNIT_OF_PAY           528101 non-null object\n",
      "PW_SOURCE                528101 non-null object\n",
      "PW_SOURCE_YEAR           528103 non-null float64\n",
      "PW_SOURCE_OTHER          528134 non-null object\n",
      "WAGE_RATE_OF_PAY_FROM    528134 non-null float64\n",
      "WAGE_RATE_OF_PAY_TO      528134 non-null float64\n",
      "WAGE_UNIT_OF_PAY         528130 non-null object\n",
      "H-1B_DEPENDENT           517834 non-null object\n",
      "WILLFUL_VIOLATOR         517833 non-null object\n",
      "WORKSITE_STATE           528134 non-null object\n",
      "WORKSITE_POSTAL_CODE     528134 non-null object\n",
      "CASE_STATUS              528134 non-null object\n",
      "dtypes: float64(5), int64(7), object(15)\n",
      "memory usage: 108.8+ MB\n"
     ]
    }
   ],
   "source": [
    "df.info()"
   ]
  },
  {
   "cell_type": "code",
   "execution_count": 11,
   "metadata": {},
   "outputs": [
    {
     "data": {
      "text/plain": [
       "CERTIFIED             468969\n",
       "CERTIFIEDWITHDRAWN     36170\n",
       "WITHDRAWN              16012\n",
       "DENIED                  6983\n",
       "Name: CASE_STATUS, dtype: int64"
      ]
     },
     "execution_count": 11,
     "metadata": {},
     "output_type": "execute_result"
    }
   ],
   "source": [
    "df['CASE_STATUS'].value_counts()"
   ]
  },
  {
   "cell_type": "code",
   "execution_count": 12,
   "metadata": {},
   "outputs": [
    {
     "data": {
      "text/plain": [
       "UNITED STATES OF AMERICA    528124\n",
       "CANADA                           7\n",
       "AUSTRALIA                        2\n",
       "CHINA                            1\n",
       "Name: EMPLOYER_COUNTRY, dtype: int64"
      ]
     },
     "execution_count": 12,
     "metadata": {},
     "output_type": "execute_result"
    }
   ],
   "source": [
    "df['EMPLOYER_COUNTRY'].value_counts()"
   ]
  },
  {
   "cell_type": "code",
   "execution_count": 13,
   "metadata": {},
   "outputs": [
    {
     "data": {
      "text/plain": [
       "2017    436173\n",
       "2016     91961\n",
       "Name: DECISION_YEAR, dtype: int64"
      ]
     },
     "execution_count": 13,
     "metadata": {},
     "output_type": "execute_result"
    }
   ],
   "source": [
    "df['DECISION_YEAR'].value_counts()"
   ]
  },
  {
   "cell_type": "markdown",
   "metadata": {},
   "source": [
    "### Moving data into SQL database"
   ]
  },
  {
   "cell_type": "code",
   "execution_count": 14,
   "metadata": {},
   "outputs": [],
   "source": [
    "from psycopg2 import connect\n",
    "from psycopg2.extensions import ISOLATION_LEVEL_AUTOCOMMIT"
   ]
  },
  {
   "cell_type": "code",
   "execution_count": 15,
   "metadata": {},
   "outputs": [],
   "source": [
    "params = {\n",
    "    'host': '13.58.184.120',\n",
    "    'user': 'ubuntu',\n",
    "    'port': 5432\n",
    "}\n",
    "\n",
    "#Connect and create database, disconnect, and reconnect to the right database\n",
    "connection = connect(**params, dbname='ubuntu')\n",
    "connection.set_isolation_level(ISOLATION_LEVEL_AUTOCOMMIT)\n",
    "#connection.cursor().execute('CREATE DATABASE h1b_2018;')\n",
    "connection.close()"
   ]
  },
  {
   "cell_type": "code",
   "execution_count": 16,
   "metadata": {},
   "outputs": [],
   "source": [
    "from sqlalchemy import create_engine\n",
    "connection_string = f'postgres://ubuntu:{params[\"host\"]}@{params[\"host\"]}:{params[\"port\"]}/h1b_2018'\n",
    "engine = create_engine(connection_string, echo=True)\n",
    "#df3.to_sql('h1b_2018', engine, index=False)\n",
    "\n",
    "\n"
   ]
  },
  {
   "cell_type": "markdown",
   "metadata": {},
   "source": [
    "schema made by pandas\n",
    "\n",
    "```sql\n",
    "CREATE TABLE IF NOT EXISTS h1b_table (\n",
    "\t\"CASE_SUBMITTED_DAY\" BIGINT, \n",
    "\t\"CASE_SUBMITTED_MONTH\" BIGINT, \n",
    "\t\"CASE_SUBMITTED_YEAR\" BIGINT, \n",
    "\t\"DECISION_DAY\" BIGINT, \n",
    "\t\"DECISION_MONTH\" BIGINT, \n",
    "\t\"DECISION_YEAR\" BIGINT, \n",
    "\t\"VISA_CLASS\" TEXT, \n",
    "\t\"EMPLOYER_NAME\" TEXT, \n",
    "\t\"EMPLOYER_STATE\" TEXT, \n",
    "\t\"EMPLOYER_COUNTRY\" TEXT, \n",
    "\t\"SOC_NAME\" TEXT, \n",
    "\t\"NAICS_CODE\" FLOAT(53), \n",
    "\t\"TOTAL_WORKERS\" BIGINT, \n",
    "\t\"FULL_TIME_POSITION\" TEXT, \n",
    "\t\"PREVAILING_WAGE\" FLOAT(53), \n",
    "\t\"PW_UNIT_OF_PAY\" TEXT, \n",
    "\t\"PW_SOURCE\" TEXT, \n",
    "\t\"PW_SOURCE_YEAR\" FLOAT(53), \n",
    "\t\"PW_SOURCE_OTHER\" TEXT, \n",
    "\t\"WAGE_RATE_OF_PAY_FROM\" FLOAT(53), \n",
    "\t\"WAGE_RATE_OF_PAY_TO\" FLOAT(53), \n",
    "\t\"WAGE_UNIT_OF_PAY\" TEXT, \n",
    "\t\"H-1B_DEPENDENT\" TEXT, \n",
    "\t\"WILLFUL_VIOLATOR\" TEXT, \n",
    "\t\"WORKSITE_STATE\" TEXT, \n",
    "\t\"WORKSITE_POSTAL_CODE\" TEXT, \n",
    "\t\"CASE_STATUS\" TEXT\n",
    ");\n",
    "```\n",
    "\n",
    "\n",
    "copy command\n",
    "```\n",
    "copy h1b_table from '/home/ubuntu/Master_H1b.csv' DELIMITER ',' CSV HEADER;\n",
    "```"
   ]
  },
  {
   "cell_type": "code",
   "execution_count": 17,
   "metadata": {},
   "outputs": [
    {
     "data": {
      "text/plain": [
       "[(21,),\n",
       " (21,),\n",
       " (21,),\n",
       " (21,),\n",
       " (21,),\n",
       " (21,),\n",
       " (21,),\n",
       " (21,),\n",
       " (21,),\n",
       " (21,),\n",
       " (21,),\n",
       " (21,),\n",
       " (21,),\n",
       " (21,),\n",
       " (21,),\n",
       " (21,),\n",
       " (21,),\n",
       " (21,),\n",
       " (21,),\n",
       " (21,)]"
      ]
     },
     "execution_count": 17,
     "metadata": {},
     "output_type": "execute_result"
    }
   ],
   "source": [
    "connection = connect(**params, dbname='h1b_master')\n",
    "cursor = connection.cursor()\n",
    "cursor.execute(\"\"\"SELECT \"DECISION_DAY\" FROM h1b_table LIMIT 20;\"\"\")\n",
    "cursor.fetchall()"
   ]
  },
  {
   "cell_type": "markdown",
   "metadata": {},
   "source": [
    "### Cleaning data "
   ]
  },
  {
   "cell_type": "code",
   "execution_count": 401,
   "metadata": {},
   "outputs": [],
   "source": [
    "df1 = df.dropna()"
   ]
  },
  {
   "cell_type": "code",
   "execution_count": 402,
   "metadata": {},
   "outputs": [
    {
     "data": {
      "text/plain": [
       "CERTIFIED             460175\n",
       "CERTIFIEDWITHDRAWN     35580\n",
       "WITHDRAWN              15701\n",
       "DENIED                  6289\n",
       "Name: CASE_STATUS, dtype: int64"
      ]
     },
     "execution_count": 402,
     "metadata": {},
     "output_type": "execute_result"
    }
   ],
   "source": [
    "df1.CASE_STATUS.value_counts()"
   ]
  },
  {
   "cell_type": "code",
   "execution_count": 403,
   "metadata": {},
   "outputs": [
    {
     "name": "stdout",
     "output_type": "stream",
     "text": [
      "<class 'pandas.core.frame.DataFrame'>\n",
      "Int64Index: 517745 entries, 0 to 528132\n",
      "Data columns (total 27 columns):\n",
      "CASE_SUBMITTED_DAY       517745 non-null int64\n",
      "CASE_SUBMITTED_MONTH     517745 non-null int64\n",
      "CASE_SUBMITTED_YEAR      517745 non-null int64\n",
      "DECISION_DAY             517745 non-null int64\n",
      "DECISION_MONTH           517745 non-null int64\n",
      "DECISION_YEAR            517745 non-null int64\n",
      "VISA_CLASS               517745 non-null object\n",
      "EMPLOYER_NAME            517745 non-null object\n",
      "EMPLOYER_STATE           517745 non-null object\n",
      "EMPLOYER_COUNTRY         517745 non-null object\n",
      "SOC_NAME                 517745 non-null object\n",
      "NAICS_CODE               517745 non-null float64\n",
      "TOTAL_WORKERS            517745 non-null int64\n",
      "FULL_TIME_POSITION       517745 non-null object\n",
      "PREVAILING_WAGE          517745 non-null float64\n",
      "PW_UNIT_OF_PAY           517745 non-null object\n",
      "PW_SOURCE                517745 non-null object\n",
      "PW_SOURCE_YEAR           517745 non-null float64\n",
      "PW_SOURCE_OTHER          517745 non-null object\n",
      "WAGE_RATE_OF_PAY_FROM    517745 non-null float64\n",
      "WAGE_RATE_OF_PAY_TO      517745 non-null float64\n",
      "WAGE_UNIT_OF_PAY         517745 non-null object\n",
      "H-1B_DEPENDENT           517745 non-null object\n",
      "WILLFUL_VIOLATOR         517745 non-null object\n",
      "WORKSITE_STATE           517745 non-null object\n",
      "WORKSITE_POSTAL_CODE     517745 non-null object\n",
      "CASE_STATUS              517745 non-null object\n",
      "dtypes: float64(5), int64(7), object(15)\n",
      "memory usage: 110.6+ MB\n"
     ]
    }
   ],
   "source": [
    "df1.info()"
   ]
  },
  {
   "cell_type": "code",
   "execution_count": 21,
   "metadata": {},
   "outputs": [
    {
     "data": {
      "text/plain": [
       "0     59197.0\n",
       "1     49800.0\n",
       "2     76502.0\n",
       "3     90376.0\n",
       "4    116605.0\n",
       "5     59405.0\n",
       "6     52915.0\n",
       "7     51730.0\n",
       "8     58053.0\n",
       "9     46821.0\n",
       "Name: PREVAILING_WAGE, dtype: float64"
      ]
     },
     "execution_count": 21,
     "metadata": {},
     "output_type": "execute_result"
    }
   ],
   "source": [
    "df1.PREVAILING_WAGE[0:10]"
   ]
  },
  {
   "cell_type": "markdown",
   "metadata": {},
   "source": [
    "- imports\n",
    "\n",
    "#### EDA \n",
    "\n",
    "- case status\n",
    "- EMPLOYER_COUNTRY\n",
    "- top demand \n",
    "- top companies \n",
    "- the map of hires \n",
    "\n",
    "#### Modeling \n",
    "- include only two case statuses: denied, accpeted\n",
    "- create categories of wage \n",
    "- feature engineering \n",
    "- decision tree classifier\n",
    "- logistic regression model \n",
    "- random forest \n",
    "- naive bayes "
   ]
  },
  {
   "cell_type": "code",
   "execution_count": 22,
   "metadata": {},
   "outputs": [
    {
     "data": {
      "text/html": [
       "        <script type=\"text/javascript\">\n",
       "        window.PlotlyConfig = {MathJaxConfig: 'local'};\n",
       "        if (window.MathJax) {MathJax.Hub.Config({SVG: {font: \"STIX-Web\"}});}\n",
       "        if (typeof require !== 'undefined') {\n",
       "        require.undef(\"plotly\");\n",
       "        requirejs.config({\n",
       "            paths: {\n",
       "                'plotly': ['https://cdn.plot.ly/plotly-latest.min']\n",
       "            }\n",
       "        });\n",
       "        require(['plotly'], function(Plotly) {\n",
       "            window._Plotly = Plotly;\n",
       "        });\n",
       "        }\n",
       "        </script>\n",
       "        "
      ]
     },
     "metadata": {},
     "output_type": "display_data"
    }
   ],
   "source": [
    "from plotly.offline import download_plotlyjs, init_notebook_mode, plot, iplot\n",
    "init_notebook_mode(connected=True)\n"
   ]
  },
  {
   "cell_type": "code",
   "execution_count": 23,
   "metadata": {},
   "outputs": [
    {
     "data": {
      "text/html": [
       "        <script type=\"text/javascript\">\n",
       "        window.PlotlyConfig = {MathJaxConfig: 'local'};\n",
       "        if (window.MathJax) {MathJax.Hub.Config({SVG: {font: \"STIX-Web\"}});}\n",
       "        if (typeof require !== 'undefined') {\n",
       "        require.undef(\"plotly\");\n",
       "        requirejs.config({\n",
       "            paths: {\n",
       "                'plotly': ['https://cdn.plot.ly/plotly-latest.min']\n",
       "            }\n",
       "        });\n",
       "        require(['plotly'], function(Plotly) {\n",
       "            window._Plotly = Plotly;\n",
       "        });\n",
       "        }\n",
       "        </script>\n",
       "        "
      ]
     },
     "metadata": {},
     "output_type": "display_data"
    },
    {
     "data": {
      "text/html": [
       "        <script type=\"text/javascript\">\n",
       "        window.PlotlyConfig = {MathJaxConfig: 'local'};\n",
       "        if (window.MathJax) {MathJax.Hub.Config({SVG: {font: \"STIX-Web\"}});}\n",
       "        if (typeof require !== 'undefined') {\n",
       "        require.undef(\"plotly\");\n",
       "        requirejs.config({\n",
       "            paths: {\n",
       "                'plotly': ['https://cdn.plot.ly/plotly-latest.min']\n",
       "            }\n",
       "        });\n",
       "        require(['plotly'], function(Plotly) {\n",
       "            window._Plotly = Plotly;\n",
       "        });\n",
       "        }\n",
       "        </script>\n",
       "        "
      ]
     },
     "metadata": {},
     "output_type": "display_data"
    }
   ],
   "source": [
    "# Standard plotly imports\n",
    "import plotly.plotly as py\n",
    "import plotly.graph_objs as go\n",
    "from plotly.offline import iplot, init_notebook_mode\n",
    "# Using plotly + cufflinks in offline mode\n",
    "import cufflinks\n",
    "cufflinks.go_offline(connected=True)\n",
    "init_notebook_mode(connected=True)"
   ]
  },
  {
   "cell_type": "code",
   "execution_count": 24,
   "metadata": {},
   "outputs": [],
   "source": [
    "import plotly.graph_objs as go"
   ]
  },
  {
   "cell_type": "code",
   "execution_count": 25,
   "metadata": {},
   "outputs": [],
   "source": [
    "import cufflinks as cf"
   ]
  },
  {
   "cell_type": "code",
   "execution_count": 26,
   "metadata": {},
   "outputs": [
    {
     "data": {
      "text/plain": [
       "CERTIFIED             460175\n",
       "CERTIFIEDWITHDRAWN     35580\n",
       "WITHDRAWN              15701\n",
       "DENIED                  6289\n",
       "Name: CASE_STATUS, dtype: int64"
      ]
     },
     "execution_count": 26,
     "metadata": {},
     "output_type": "execute_result"
    }
   ],
   "source": [
    "df1.CASE_STATUS.value_counts()"
   ]
  },
  {
   "cell_type": "code",
   "execution_count": 27,
   "metadata": {},
   "outputs": [
    {
     "name": "stdout",
     "output_type": "stream",
     "text": [
      "<class 'pandas.core.frame.DataFrame'>\n",
      "Int64Index: 517745 entries, 0 to 528132\n",
      "Data columns (total 27 columns):\n",
      "CASE_SUBMITTED_DAY       517745 non-null int64\n",
      "CASE_SUBMITTED_MONTH     517745 non-null int64\n",
      "CASE_SUBMITTED_YEAR      517745 non-null int64\n",
      "DECISION_DAY             517745 non-null int64\n",
      "DECISION_MONTH           517745 non-null int64\n",
      "DECISION_YEAR            517745 non-null int64\n",
      "VISA_CLASS               517745 non-null object\n",
      "EMPLOYER_NAME            517745 non-null object\n",
      "EMPLOYER_STATE           517745 non-null object\n",
      "EMPLOYER_COUNTRY         517745 non-null object\n",
      "SOC_NAME                 517745 non-null object\n",
      "NAICS_CODE               517745 non-null float64\n",
      "TOTAL_WORKERS            517745 non-null int64\n",
      "FULL_TIME_POSITION       517745 non-null object\n",
      "PREVAILING_WAGE          517745 non-null float64\n",
      "PW_UNIT_OF_PAY           517745 non-null object\n",
      "PW_SOURCE                517745 non-null object\n",
      "PW_SOURCE_YEAR           517745 non-null float64\n",
      "PW_SOURCE_OTHER          517745 non-null object\n",
      "WAGE_RATE_OF_PAY_FROM    517745 non-null float64\n",
      "WAGE_RATE_OF_PAY_TO      517745 non-null float64\n",
      "WAGE_UNIT_OF_PAY         517745 non-null object\n",
      "H-1B_DEPENDENT           517745 non-null object\n",
      "WILLFUL_VIOLATOR         517745 non-null object\n",
      "WORKSITE_STATE           517745 non-null object\n",
      "WORKSITE_POSTAL_CODE     517745 non-null object\n",
      "CASE_STATUS              517745 non-null object\n",
      "dtypes: float64(5), int64(7), object(15)\n",
      "memory usage: 110.6+ MB\n"
     ]
    }
   ],
   "source": [
    "df1.info()"
   ]
  },
  {
   "cell_type": "code",
   "execution_count": 28,
   "metadata": {},
   "outputs": [
    {
     "data": {
      "text/plain": [
       "CERTIFIED             460175\n",
       "CERTIFIEDWITHDRAWN     35580\n",
       "WITHDRAWN              15701\n",
       "DENIED                  6289\n",
       "Name: CASE_STATUS, dtype: int64"
      ]
     },
     "execution_count": 28,
     "metadata": {},
     "output_type": "execute_result"
    }
   ],
   "source": [
    "df1['CASE_STATUS'].value_counts()"
   ]
  },
  {
   "cell_type": "code",
   "execution_count": 29,
   "metadata": {},
   "outputs": [],
   "source": [
    "from IPython.display import IFrame"
   ]
  },
  {
   "cell_type": "code",
   "execution_count": 404,
   "metadata": {},
   "outputs": [],
   "source": [
    "df2_cases = df1[(df1['CASE_STATUS'] != 'WITHDRAWN') & (df1['CASE_STATUS'] != 'CERTIFIEDWITHDRAWN')]"
   ]
  },
  {
   "cell_type": "code",
   "execution_count": 405,
   "metadata": {},
   "outputs": [
    {
     "data": {
      "text/plain": [
       "2017    390460\n",
       "2016     76004\n",
       "Name: DECISION_YEAR, dtype: int64"
      ]
     },
     "execution_count": 405,
     "metadata": {},
     "output_type": "execute_result"
    }
   ],
   "source": [
    "df2_cases['DECISION_YEAR'].value_counts()"
   ]
  },
  {
   "cell_type": "code",
   "execution_count": 406,
   "metadata": {},
   "outputs": [
    {
     "data": {
      "text/plain": [
       "CERTIFIED    460175\n",
       "DENIED         6289\n",
       "Name: CASE_STATUS, dtype: int64"
      ]
     },
     "execution_count": 406,
     "metadata": {},
     "output_type": "execute_result"
    }
   ],
   "source": [
    "df2_cases['CASE_STATUS'].value_counts()"
   ]
  },
  {
   "cell_type": "code",
   "execution_count": 407,
   "metadata": {},
   "outputs": [
    {
     "data": {
      "text/plain": [
       "H1B               466021\n",
       "E3 Australian        336\n",
       "H1B1 Chile            55\n",
       "H1B1 Singapore        52\n",
       "Name: VISA_CLASS, dtype: int64"
      ]
     },
     "execution_count": 407,
     "metadata": {},
     "output_type": "execute_result"
    }
   ],
   "source": [
    "df2_cases['VISA_CLASS'].value_counts()"
   ]
  },
  {
   "cell_type": "code",
   "execution_count": 408,
   "metadata": {},
   "outputs": [],
   "source": [
    "df2_cases = df2_cases[(df2_cases['VISA_CLASS'] != 'E3 Australian') & (df2_cases['VISA_CLASS'] !='H1B1 Chile') &(df2_cases['VISA_CLASS'] !='H1B1 Singapore')]"
   ]
  },
  {
   "cell_type": "code",
   "execution_count": 409,
   "metadata": {},
   "outputs": [],
   "source": [
    "df2_cases = df2_cases[(df2_cases['PW_UNIT_OF_PAY'] != 'Hour') & (df2_cases['PW_UNIT_OF_PAY'] != 'Month') & (df2_cases['PW_UNIT_OF_PAY'] != 'Week') & (df2_cases['PW_UNIT_OF_PAY'] != 'PW_UNIT_OF_PAY')]\n",
    "\n",
    "\n",
    "\n"
   ]
  },
  {
   "cell_type": "code",
   "execution_count": 410,
   "metadata": {},
   "outputs": [
    {
     "data": {
      "text/plain": [
       "UNITED STATES OF AMERICA    436844\n",
       "Name: EMPLOYER_COUNTRY, dtype: int64"
      ]
     },
     "execution_count": 410,
     "metadata": {},
     "output_type": "execute_result"
    }
   ],
   "source": [
    "df2_cases['EMPLOYER_COUNTRY'].value_counts()"
   ]
  },
  {
   "cell_type": "code",
   "execution_count": 411,
   "metadata": {},
   "outputs": [
    {
     "data": {
      "text/plain": [
       "Y    436834\n",
       "N        10\n",
       "Name: FULL_TIME_POSITION, dtype: int64"
      ]
     },
     "execution_count": 411,
     "metadata": {},
     "output_type": "execute_result"
    }
   ],
   "source": [
    "df2_cases['FULL_TIME_POSITION'].value_counts()"
   ]
  },
  {
   "cell_type": "code",
   "execution_count": 412,
   "metadata": {},
   "outputs": [],
   "source": [
    "df2_cases.drop(['EMPLOYER_COUNTRY','PW_UNIT_OF_PAY','PW_SOURCE_YEAR','PW_SOURCE_OTHER','WAGE_RATE_OF_PAY_FROM','WAGE_RATE_OF_PAY_TO','WAGE_UNIT_OF_PAY','WORKSITE_POSTAL_CODE','WORKSITE_STATE'],axis=1,inplace=True)"
   ]
  },
  {
   "cell_type": "code",
   "execution_count": 413,
   "metadata": {},
   "outputs": [],
   "source": [
    "df2_cases.drop(['NAICS_CODE'],axis=1,inplace=True)"
   ]
  },
  {
   "cell_type": "code",
   "execution_count": 414,
   "metadata": {},
   "outputs": [],
   "source": [
    "df2_cases.drop(['PW_SOURCE'],axis=1,inplace=True)"
   ]
  },
  {
   "cell_type": "markdown",
   "metadata": {},
   "source": [
    "### Feature Engineering "
   ]
  },
  {
   "cell_type": "code",
   "execution_count": 415,
   "metadata": {},
   "outputs": [
    {
     "data": {
      "text/html": [
       "<div>\n",
       "<style scoped>\n",
       "    .dataframe tbody tr th:only-of-type {\n",
       "        vertical-align: middle;\n",
       "    }\n",
       "\n",
       "    .dataframe tbody tr th {\n",
       "        vertical-align: top;\n",
       "    }\n",
       "\n",
       "    .dataframe thead th {\n",
       "        text-align: right;\n",
       "    }\n",
       "</style>\n",
       "<table border=\"1\" class=\"dataframe\">\n",
       "  <thead>\n",
       "    <tr style=\"text-align: right;\">\n",
       "      <th></th>\n",
       "      <th>CASE_SUBMITTED_DAY</th>\n",
       "      <th>CASE_SUBMITTED_MONTH</th>\n",
       "      <th>CASE_SUBMITTED_YEAR</th>\n",
       "      <th>DECISION_DAY</th>\n",
       "      <th>DECISION_MONTH</th>\n",
       "      <th>DECISION_YEAR</th>\n",
       "      <th>VISA_CLASS</th>\n",
       "      <th>EMPLOYER_NAME</th>\n",
       "      <th>EMPLOYER_STATE</th>\n",
       "      <th>SOC_NAME</th>\n",
       "      <th>TOTAL_WORKERS</th>\n",
       "      <th>FULL_TIME_POSITION</th>\n",
       "      <th>PREVAILING_WAGE</th>\n",
       "      <th>H-1B_DEPENDENT</th>\n",
       "      <th>WILLFUL_VIOLATOR</th>\n",
       "      <th>CASE_STATUS</th>\n",
       "    </tr>\n",
       "  </thead>\n",
       "  <tbody>\n",
       "    <tr>\n",
       "      <th>109</th>\n",
       "      <td>27</td>\n",
       "      <td>9</td>\n",
       "      <td>2016</td>\n",
       "      <td>3</td>\n",
       "      <td>10</td>\n",
       "      <td>2016</td>\n",
       "      <td>H1B</td>\n",
       "      <td>INITECH GLOBAL LLC</td>\n",
       "      <td>MO</td>\n",
       "      <td>ANALYSTS</td>\n",
       "      <td>1</td>\n",
       "      <td>Y</td>\n",
       "      <td>67870.0</td>\n",
       "      <td>Y</td>\n",
       "      <td>N</td>\n",
       "      <td>CERTIFIED</td>\n",
       "    </tr>\n",
       "    <tr>\n",
       "      <th>186</th>\n",
       "      <td>27</td>\n",
       "      <td>9</td>\n",
       "      <td>2016</td>\n",
       "      <td>3</td>\n",
       "      <td>10</td>\n",
       "      <td>2016</td>\n",
       "      <td>H1B</td>\n",
       "      <td>3 D MICROMAC AMERICA LLC</td>\n",
       "      <td>CA</td>\n",
       "      <td>ANALYSTS</td>\n",
       "      <td>1</td>\n",
       "      <td>Y</td>\n",
       "      <td>121430.0</td>\n",
       "      <td>N</td>\n",
       "      <td>N</td>\n",
       "      <td>CERTIFIED</td>\n",
       "    </tr>\n",
       "    <tr>\n",
       "      <th>187</th>\n",
       "      <td>27</td>\n",
       "      <td>9</td>\n",
       "      <td>2016</td>\n",
       "      <td>3</td>\n",
       "      <td>10</td>\n",
       "      <td>2016</td>\n",
       "      <td>H1B</td>\n",
       "      <td>4 SERV SOLUTIONS INC</td>\n",
       "      <td>MI</td>\n",
       "      <td>ANALYSTS</td>\n",
       "      <td>1</td>\n",
       "      <td>Y</td>\n",
       "      <td>54704.0</td>\n",
       "      <td>Y</td>\n",
       "      <td>N</td>\n",
       "      <td>CERTIFIED</td>\n",
       "    </tr>\n",
       "    <tr>\n",
       "      <th>188</th>\n",
       "      <td>27</td>\n",
       "      <td>9</td>\n",
       "      <td>2016</td>\n",
       "      <td>3</td>\n",
       "      <td>10</td>\n",
       "      <td>2016</td>\n",
       "      <td>H1B</td>\n",
       "      <td>8K MILES SOFTWARE SERVICES INC</td>\n",
       "      <td>CA</td>\n",
       "      <td>ANALYSTS</td>\n",
       "      <td>1</td>\n",
       "      <td>Y</td>\n",
       "      <td>56701.0</td>\n",
       "      <td>Y</td>\n",
       "      <td>N</td>\n",
       "      <td>CERTIFIED</td>\n",
       "    </tr>\n",
       "    <tr>\n",
       "      <th>189</th>\n",
       "      <td>27</td>\n",
       "      <td>9</td>\n",
       "      <td>2016</td>\n",
       "      <td>3</td>\n",
       "      <td>10</td>\n",
       "      <td>2016</td>\n",
       "      <td>H1B</td>\n",
       "      <td>A1 KAISER INC</td>\n",
       "      <td>NJ</td>\n",
       "      <td>ANALYSTS</td>\n",
       "      <td>1</td>\n",
       "      <td>Y</td>\n",
       "      <td>78208.0</td>\n",
       "      <td>Y</td>\n",
       "      <td>N</td>\n",
       "      <td>CERTIFIED</td>\n",
       "    </tr>\n",
       "  </tbody>\n",
       "</table>\n",
       "</div>"
      ],
      "text/plain": [
       "     CASE_SUBMITTED_DAY  CASE_SUBMITTED_MONTH  CASE_SUBMITTED_YEAR  DECISION_DAY  DECISION_MONTH  DECISION_YEAR VISA_CLASS                   EMPLOYER_NAME EMPLOYER_STATE  SOC_NAME  TOTAL_WORKERS FULL_TIME_POSITION  PREVAILING_WAGE H-1B_DEPENDENT WILLFUL_VIOLATOR CASE_STATUS\n",
       "109                  27                     9                 2016             3              10           2016        H1B              INITECH GLOBAL LLC             MO  ANALYSTS              1                  Y          67870.0              Y                N   CERTIFIED\n",
       "186                  27                     9                 2016             3              10           2016        H1B        3 D MICROMAC AMERICA LLC             CA  ANALYSTS              1                  Y         121430.0              N                N   CERTIFIED\n",
       "187                  27                     9                 2016             3              10           2016        H1B            4 SERV SOLUTIONS INC             MI  ANALYSTS              1                  Y          54704.0              Y                N   CERTIFIED\n",
       "188                  27                     9                 2016             3              10           2016        H1B  8K MILES SOFTWARE SERVICES INC             CA  ANALYSTS              1                  Y          56701.0              Y                N   CERTIFIED\n",
       "189                  27                     9                 2016             3              10           2016        H1B                   A1 KAISER INC             NJ  ANALYSTS              1                  Y          78208.0              Y                N   CERTIFIED"
      ]
     },
     "execution_count": 415,
     "metadata": {},
     "output_type": "execute_result"
    }
   ],
   "source": [
    "df2_cases.head()"
   ]
  },
  {
   "cell_type": "code",
   "execution_count": 416,
   "metadata": {},
   "outputs": [],
   "source": [
    "df2_cases = pd.get_dummies(df2_cases, columns=['FULL_TIME_POSITION'])"
   ]
  },
  {
   "cell_type": "code",
   "execution_count": 417,
   "metadata": {},
   "outputs": [],
   "source": [
    "df2_cases = pd.get_dummies(df2_cases, columns = ['H-1B_DEPENDENT'])"
   ]
  },
  {
   "cell_type": "code",
   "execution_count": 418,
   "metadata": {},
   "outputs": [],
   "source": [
    "df2_cases = pd.get_dummies(df2_cases, columns = ['WILLFUL_VIOLATOR'])"
   ]
  },
  {
   "cell_type": "code",
   "execution_count": 419,
   "metadata": {},
   "outputs": [
    {
     "data": {
      "text/plain": [
       "CERTIFIED    431734\n",
       "DENIED         5110\n",
       "Name: CASE_STATUS, dtype: int64"
      ]
     },
     "execution_count": 419,
     "metadata": {},
     "output_type": "execute_result"
    }
   ],
   "source": [
    "df2_cases['CASE_STATUS'].value_counts()"
   ]
  },
  {
   "cell_type": "code",
   "execution_count": 420,
   "metadata": {},
   "outputs": [],
   "source": [
    "df2_cases['CASE_STATUS'] = df2_cases['CASE_STATUS'].replace('CERTIFIED',0)"
   ]
  },
  {
   "cell_type": "code",
   "execution_count": 421,
   "metadata": {},
   "outputs": [],
   "source": [
    "df2_cases['CASE_STATUS'] = df2_cases['CASE_STATUS'].replace('DENIED',1)"
   ]
  },
  {
   "cell_type": "code",
   "execution_count": 422,
   "metadata": {},
   "outputs": [
    {
     "data": {
      "text/plain": [
       "0    431734\n",
       "1      5110\n",
       "Name: CASE_STATUS, dtype: int64"
      ]
     },
     "execution_count": 422,
     "metadata": {},
     "output_type": "execute_result"
    }
   ],
   "source": [
    "df2_cases['CASE_STATUS'].value_counts()"
   ]
  },
  {
   "cell_type": "code",
   "execution_count": 423,
   "metadata": {},
   "outputs": [
    {
     "name": "stdout",
     "output_type": "stream",
     "text": [
      "<class 'pandas.core.frame.DataFrame'>\n",
      "Int64Index: 436844 entries, 109 to 528112\n",
      "Data columns (total 19 columns):\n",
      "CASE_SUBMITTED_DAY      436844 non-null int64\n",
      "CASE_SUBMITTED_MONTH    436844 non-null int64\n",
      "CASE_SUBMITTED_YEAR     436844 non-null int64\n",
      "DECISION_DAY            436844 non-null int64\n",
      "DECISION_MONTH          436844 non-null int64\n",
      "DECISION_YEAR           436844 non-null int64\n",
      "VISA_CLASS              436844 non-null object\n",
      "EMPLOYER_NAME           436844 non-null object\n",
      "EMPLOYER_STATE          436844 non-null object\n",
      "SOC_NAME                436844 non-null object\n",
      "TOTAL_WORKERS           436844 non-null int64\n",
      "PREVAILING_WAGE         436844 non-null float64\n",
      "CASE_STATUS             436844 non-null int64\n",
      "FULL_TIME_POSITION_N    436844 non-null uint8\n",
      "FULL_TIME_POSITION_Y    436844 non-null uint8\n",
      "H-1B_DEPENDENT_N        436844 non-null uint8\n",
      "H-1B_DEPENDENT_Y        436844 non-null uint8\n",
      "WILLFUL_VIOLATOR_N      436844 non-null uint8\n",
      "WILLFUL_VIOLATOR_Y      436844 non-null uint8\n",
      "dtypes: float64(1), int64(8), object(4), uint8(6)\n",
      "memory usage: 49.2+ MB\n"
     ]
    }
   ],
   "source": [
    "df2_cases.info()"
   ]
  },
  {
   "cell_type": "code",
   "execution_count": 424,
   "metadata": {},
   "outputs": [
    {
     "data": {
      "text/html": [
       "<div>\n",
       "<style scoped>\n",
       "    .dataframe tbody tr th:only-of-type {\n",
       "        vertical-align: middle;\n",
       "    }\n",
       "\n",
       "    .dataframe tbody tr th {\n",
       "        vertical-align: top;\n",
       "    }\n",
       "\n",
       "    .dataframe thead th {\n",
       "        text-align: right;\n",
       "    }\n",
       "</style>\n",
       "<table border=\"1\" class=\"dataframe\">\n",
       "  <thead>\n",
       "    <tr style=\"text-align: right;\">\n",
       "      <th></th>\n",
       "      <th>CASE_SUBMITTED_DAY</th>\n",
       "      <th>CASE_SUBMITTED_MONTH</th>\n",
       "      <th>CASE_SUBMITTED_YEAR</th>\n",
       "      <th>DECISION_DAY</th>\n",
       "      <th>DECISION_MONTH</th>\n",
       "      <th>DECISION_YEAR</th>\n",
       "      <th>VISA_CLASS</th>\n",
       "      <th>EMPLOYER_NAME</th>\n",
       "      <th>EMPLOYER_STATE</th>\n",
       "      <th>SOC_NAME</th>\n",
       "      <th>TOTAL_WORKERS</th>\n",
       "      <th>PREVAILING_WAGE</th>\n",
       "      <th>CASE_STATUS</th>\n",
       "      <th>FULL_TIME_POSITION_N</th>\n",
       "      <th>FULL_TIME_POSITION_Y</th>\n",
       "      <th>H-1B_DEPENDENT_N</th>\n",
       "      <th>H-1B_DEPENDENT_Y</th>\n",
       "      <th>WILLFUL_VIOLATOR_N</th>\n",
       "      <th>WILLFUL_VIOLATOR_Y</th>\n",
       "    </tr>\n",
       "  </thead>\n",
       "  <tbody>\n",
       "    <tr>\n",
       "      <th>46363</th>\n",
       "      <td>11</td>\n",
       "      <td>11</td>\n",
       "      <td>2016</td>\n",
       "      <td>16</td>\n",
       "      <td>11</td>\n",
       "      <td>2016</td>\n",
       "      <td>H1B</td>\n",
       "      <td>LINKEDIN CORPORATION</td>\n",
       "      <td>CA</td>\n",
       "      <td>MARKETING</td>\n",
       "      <td>1</td>\n",
       "      <td>135387.0</td>\n",
       "      <td>1</td>\n",
       "      <td>1</td>\n",
       "      <td>0</td>\n",
       "      <td>1</td>\n",
       "      <td>0</td>\n",
       "      <td>1</td>\n",
       "      <td>0</td>\n",
       "    </tr>\n",
       "    <tr>\n",
       "      <th>51454</th>\n",
       "      <td>15</td>\n",
       "      <td>11</td>\n",
       "      <td>2016</td>\n",
       "      <td>21</td>\n",
       "      <td>11</td>\n",
       "      <td>2016</td>\n",
       "      <td>H1B</td>\n",
       "      <td>TW2M DESIGN/BUILD LLC</td>\n",
       "      <td>NY</td>\n",
       "      <td>FINANCE</td>\n",
       "      <td>1</td>\n",
       "      <td>38584.0</td>\n",
       "      <td>1</td>\n",
       "      <td>1</td>\n",
       "      <td>0</td>\n",
       "      <td>1</td>\n",
       "      <td>0</td>\n",
       "      <td>1</td>\n",
       "      <td>0</td>\n",
       "    </tr>\n",
       "    <tr>\n",
       "      <th>57454</th>\n",
       "      <td>23</td>\n",
       "      <td>11</td>\n",
       "      <td>2016</td>\n",
       "      <td>28</td>\n",
       "      <td>11</td>\n",
       "      <td>2016</td>\n",
       "      <td>H1B</td>\n",
       "      <td>NORTHERN VIRGINIA FAMILY SERVICE</td>\n",
       "      <td>VA</td>\n",
       "      <td>SCIENTIST</td>\n",
       "      <td>1</td>\n",
       "      <td>30306.0</td>\n",
       "      <td>1</td>\n",
       "      <td>1</td>\n",
       "      <td>0</td>\n",
       "      <td>1</td>\n",
       "      <td>0</td>\n",
       "      <td>1</td>\n",
       "      <td>0</td>\n",
       "    </tr>\n",
       "    <tr>\n",
       "      <th>187002</th>\n",
       "      <td>22</td>\n",
       "      <td>2</td>\n",
       "      <td>2017</td>\n",
       "      <td>24</td>\n",
       "      <td>2</td>\n",
       "      <td>2017</td>\n",
       "      <td>H1B</td>\n",
       "      <td>TAI CHI ACUPUNCTURE and WELLNESS CENTER LLC</td>\n",
       "      <td>MA</td>\n",
       "      <td>REAL ESTATE</td>\n",
       "      <td>1</td>\n",
       "      <td>52208.0</td>\n",
       "      <td>1</td>\n",
       "      <td>1</td>\n",
       "      <td>0</td>\n",
       "      <td>1</td>\n",
       "      <td>0</td>\n",
       "      <td>1</td>\n",
       "      <td>0</td>\n",
       "    </tr>\n",
       "    <tr>\n",
       "      <th>231573</th>\n",
       "      <td>2</td>\n",
       "      <td>3</td>\n",
       "      <td>2017</td>\n",
       "      <td>8</td>\n",
       "      <td>3</td>\n",
       "      <td>2017</td>\n",
       "      <td>H1B</td>\n",
       "      <td>SOUTHERN OREGON CARDIOLOGY LLC</td>\n",
       "      <td>OR</td>\n",
       "      <td>ENGINEERS</td>\n",
       "      <td>1</td>\n",
       "      <td>103501.0</td>\n",
       "      <td>1</td>\n",
       "      <td>1</td>\n",
       "      <td>0</td>\n",
       "      <td>1</td>\n",
       "      <td>0</td>\n",
       "      <td>1</td>\n",
       "      <td>0</td>\n",
       "    </tr>\n",
       "    <tr>\n",
       "      <th>332643</th>\n",
       "      <td>19</td>\n",
       "      <td>3</td>\n",
       "      <td>2017</td>\n",
       "      <td>21</td>\n",
       "      <td>3</td>\n",
       "      <td>2017</td>\n",
       "      <td>H1B</td>\n",
       "      <td>PROSOFT IT SERVICES INC</td>\n",
       "      <td>NY</td>\n",
       "      <td>COUNSELORS</td>\n",
       "      <td>1</td>\n",
       "      <td>50294.0</td>\n",
       "      <td>1</td>\n",
       "      <td>1</td>\n",
       "      <td>0</td>\n",
       "      <td>0</td>\n",
       "      <td>1</td>\n",
       "      <td>1</td>\n",
       "      <td>0</td>\n",
       "    </tr>\n",
       "    <tr>\n",
       "      <th>417799</th>\n",
       "      <td>29</td>\n",
       "      <td>3</td>\n",
       "      <td>2017</td>\n",
       "      <td>4</td>\n",
       "      <td>4</td>\n",
       "      <td>2017</td>\n",
       "      <td>H1B</td>\n",
       "      <td>BLUE PRINT INFORMATION STRATEGIES LLC</td>\n",
       "      <td>NJ</td>\n",
       "      <td>COMPUTER OCCUPATION</td>\n",
       "      <td>1</td>\n",
       "      <td>52915.0</td>\n",
       "      <td>1</td>\n",
       "      <td>1</td>\n",
       "      <td>0</td>\n",
       "      <td>1</td>\n",
       "      <td>0</td>\n",
       "      <td>1</td>\n",
       "      <td>0</td>\n",
       "    </tr>\n",
       "    <tr>\n",
       "      <th>463983</th>\n",
       "      <td>2</td>\n",
       "      <td>5</td>\n",
       "      <td>2017</td>\n",
       "      <td>8</td>\n",
       "      <td>5</td>\n",
       "      <td>2017</td>\n",
       "      <td>H1B</td>\n",
       "      <td>NESS USA INC</td>\n",
       "      <td>PA</td>\n",
       "      <td>COMPUTER OCCUPATION</td>\n",
       "      <td>3</td>\n",
       "      <td>83304.0</td>\n",
       "      <td>1</td>\n",
       "      <td>1</td>\n",
       "      <td>0</td>\n",
       "      <td>0</td>\n",
       "      <td>1</td>\n",
       "      <td>1</td>\n",
       "      <td>0</td>\n",
       "    </tr>\n",
       "    <tr>\n",
       "      <th>486434</th>\n",
       "      <td>19</td>\n",
       "      <td>5</td>\n",
       "      <td>2017</td>\n",
       "      <td>25</td>\n",
       "      <td>5</td>\n",
       "      <td>2017</td>\n",
       "      <td>H1B</td>\n",
       "      <td>THE VERITAS HEALTHCARE SOLUTIONS LLC</td>\n",
       "      <td>NJ</td>\n",
       "      <td>DOCTORS</td>\n",
       "      <td>1</td>\n",
       "      <td>52478.0</td>\n",
       "      <td>1</td>\n",
       "      <td>1</td>\n",
       "      <td>0</td>\n",
       "      <td>0</td>\n",
       "      <td>1</td>\n",
       "      <td>1</td>\n",
       "      <td>0</td>\n",
       "    </tr>\n",
       "    <tr>\n",
       "      <th>526608</th>\n",
       "      <td>29</td>\n",
       "      <td>6</td>\n",
       "      <td>2017</td>\n",
       "      <td>29</td>\n",
       "      <td>6</td>\n",
       "      <td>2017</td>\n",
       "      <td>H1B</td>\n",
       "      <td>LARSEN and TOUBRO INFOTECH LIMITED</td>\n",
       "      <td>NJ</td>\n",
       "      <td>MATHEMATICIANS AND STATISTICIANS</td>\n",
       "      <td>1</td>\n",
       "      <td>71781.0</td>\n",
       "      <td>1</td>\n",
       "      <td>1</td>\n",
       "      <td>0</td>\n",
       "      <td>0</td>\n",
       "      <td>1</td>\n",
       "      <td>1</td>\n",
       "      <td>0</td>\n",
       "    </tr>\n",
       "  </tbody>\n",
       "</table>\n",
       "</div>"
      ],
      "text/plain": [
       "        CASE_SUBMITTED_DAY  CASE_SUBMITTED_MONTH  CASE_SUBMITTED_YEAR  DECISION_DAY  DECISION_MONTH  DECISION_YEAR VISA_CLASS                                EMPLOYER_NAME EMPLOYER_STATE                          SOC_NAME  TOTAL_WORKERS  PREVAILING_WAGE  CASE_STATUS  FULL_TIME_POSITION_N  FULL_TIME_POSITION_Y  H-1B_DEPENDENT_N  H-1B_DEPENDENT_Y  WILLFUL_VIOLATOR_N  WILLFUL_VIOLATOR_Y\n",
       "46363                   11                    11                 2016            16              11           2016        H1B                         LINKEDIN CORPORATION             CA                         MARKETING              1         135387.0            1                     1                     0                 1                 0                   1                   0\n",
       "51454                   15                    11                 2016            21              11           2016        H1B                        TW2M DESIGN/BUILD LLC             NY                           FINANCE              1          38584.0            1                     1                     0                 1                 0                   1                   0\n",
       "57454                   23                    11                 2016            28              11           2016        H1B             NORTHERN VIRGINIA FAMILY SERVICE             VA                         SCIENTIST              1          30306.0            1                     1                     0                 1                 0                   1                   0\n",
       "187002                  22                     2                 2017            24               2           2017        H1B  TAI CHI ACUPUNCTURE and WELLNESS CENTER LLC             MA                       REAL ESTATE              1          52208.0            1                     1                     0                 1                 0                   1                   0\n",
       "231573                   2                     3                 2017             8               3           2017        H1B               SOUTHERN OREGON CARDIOLOGY LLC             OR                         ENGINEERS              1         103501.0            1                     1                     0                 1                 0                   1                   0\n",
       "332643                  19                     3                 2017            21               3           2017        H1B                      PROSOFT IT SERVICES INC             NY                        COUNSELORS              1          50294.0            1                     1                     0                 0                 1                   1                   0\n",
       "417799                  29                     3                 2017             4               4           2017        H1B        BLUE PRINT INFORMATION STRATEGIES LLC             NJ               COMPUTER OCCUPATION              1          52915.0            1                     1                     0                 1                 0                   1                   0\n",
       "463983                   2                     5                 2017             8               5           2017        H1B                                 NESS USA INC             PA               COMPUTER OCCUPATION              3          83304.0            1                     1                     0                 0                 1                   1                   0\n",
       "486434                  19                     5                 2017            25               5           2017        H1B         THE VERITAS HEALTHCARE SOLUTIONS LLC             NJ                           DOCTORS              1          52478.0            1                     1                     0                 0                 1                   1                   0\n",
       "526608                  29                     6                 2017            29               6           2017        H1B           LARSEN and TOUBRO INFOTECH LIMITED             NJ  MATHEMATICIANS AND STATISTICIANS              1          71781.0            1                     1                     0                 0                 1                   1                   0"
      ]
     },
     "execution_count": 424,
     "metadata": {},
     "output_type": "execute_result"
    }
   ],
   "source": [
    "df2_cases[df2_cases['FULL_TIME_POSITION_N'] ==1]"
   ]
  },
  {
   "cell_type": "code",
   "execution_count": 425,
   "metadata": {},
   "outputs": [],
   "source": [
    "df2_cases.drop(['VISA_CLASS','DECISION_YEAR','DECISION_MONTH','DECISION_DAY'],axis=1,inplace=True)"
   ]
  },
  {
   "cell_type": "code",
   "execution_count": 426,
   "metadata": {},
   "outputs": [
    {
     "name": "stdout",
     "output_type": "stream",
     "text": [
      "<class 'pandas.core.frame.DataFrame'>\n",
      "Int64Index: 436844 entries, 109 to 528112\n",
      "Data columns (total 15 columns):\n",
      "CASE_SUBMITTED_DAY      436844 non-null int64\n",
      "CASE_SUBMITTED_MONTH    436844 non-null int64\n",
      "CASE_SUBMITTED_YEAR     436844 non-null int64\n",
      "EMPLOYER_NAME           436844 non-null object\n",
      "EMPLOYER_STATE          436844 non-null object\n",
      "SOC_NAME                436844 non-null object\n",
      "TOTAL_WORKERS           436844 non-null int64\n",
      "PREVAILING_WAGE         436844 non-null float64\n",
      "CASE_STATUS             436844 non-null int64\n",
      "FULL_TIME_POSITION_N    436844 non-null uint8\n",
      "FULL_TIME_POSITION_Y    436844 non-null uint8\n",
      "H-1B_DEPENDENT_N        436844 non-null uint8\n",
      "H-1B_DEPENDENT_Y        436844 non-null uint8\n",
      "WILLFUL_VIOLATOR_N      436844 non-null uint8\n",
      "WILLFUL_VIOLATOR_Y      436844 non-null uint8\n",
      "dtypes: float64(1), int64(5), object(3), uint8(6)\n",
      "memory usage: 35.8+ MB\n"
     ]
    }
   ],
   "source": [
    "df2_cases.info()"
   ]
  },
  {
   "cell_type": "markdown",
   "metadata": {},
   "source": [
    "Dummy variables \n",
    "- H-1B_DEPENDENT\n",
    "- EMPLOYER_STATE (only for Logistic Regression)\n",
    "- FULL_TIME_POSITION\t"
   ]
  },
  {
   "cell_type": "code",
   "execution_count": 52,
   "metadata": {},
   "outputs": [],
   "source": [
    "import matplotlib.pyplot as plt"
   ]
  },
  {
   "cell_type": "code",
   "execution_count": 53,
   "metadata": {},
   "outputs": [],
   "source": [
    "import seaborn as sns"
   ]
  },
  {
   "cell_type": "markdown",
   "metadata": {},
   "source": [
    "### Top 10 H -1B Sponsors"
   ]
  },
  {
   "cell_type": "code",
   "execution_count": 574,
   "metadata": {},
   "outputs": [
    {
     "data": {
      "text/html": [
       "\n",
       "    <div class=\"bk-root\">\n",
       "        <a href=\"https://bokeh.pydata.org\" target=\"_blank\" class=\"bk-logo bk-logo-small bk-logo-notebook\"></a>\n",
       "        <span id=\"1001\">Loading BokehJS ...</span>\n",
       "    </div>"
      ]
     },
     "metadata": {},
     "output_type": "display_data"
    },
    {
     "data": {
      "application/javascript": [
       "\n",
       "(function(root) {\n",
       "  function now() {\n",
       "    return new Date();\n",
       "  }\n",
       "\n",
       "  var force = true;\n",
       "\n",
       "  if (typeof root._bokeh_onload_callbacks === \"undefined\" || force === true) {\n",
       "    root._bokeh_onload_callbacks = [];\n",
       "    root._bokeh_is_loading = undefined;\n",
       "  }\n",
       "\n",
       "  var JS_MIME_TYPE = 'application/javascript';\n",
       "  var HTML_MIME_TYPE = 'text/html';\n",
       "  var EXEC_MIME_TYPE = 'application/vnd.bokehjs_exec.v0+json';\n",
       "  var CLASS_NAME = 'output_bokeh rendered_html';\n",
       "\n",
       "  /**\n",
       "   * Render data to the DOM node\n",
       "   */\n",
       "  function render(props, node) {\n",
       "    var script = document.createElement(\"script\");\n",
       "    node.appendChild(script);\n",
       "  }\n",
       "\n",
       "  /**\n",
       "   * Handle when an output is cleared or removed\n",
       "   */\n",
       "  function handleClearOutput(event, handle) {\n",
       "    var cell = handle.cell;\n",
       "\n",
       "    var id = cell.output_area._bokeh_element_id;\n",
       "    var server_id = cell.output_area._bokeh_server_id;\n",
       "    // Clean up Bokeh references\n",
       "    if (id != null && id in Bokeh.index) {\n",
       "      Bokeh.index[id].model.document.clear();\n",
       "      delete Bokeh.index[id];\n",
       "    }\n",
       "\n",
       "    if (server_id !== undefined) {\n",
       "      // Clean up Bokeh references\n",
       "      var cmd = \"from bokeh.io.state import curstate; print(curstate().uuid_to_server['\" + server_id + \"'].get_sessions()[0].document.roots[0]._id)\";\n",
       "      cell.notebook.kernel.execute(cmd, {\n",
       "        iopub: {\n",
       "          output: function(msg) {\n",
       "            var id = msg.content.text.trim();\n",
       "            if (id in Bokeh.index) {\n",
       "              Bokeh.index[id].model.document.clear();\n",
       "              delete Bokeh.index[id];\n",
       "            }\n",
       "          }\n",
       "        }\n",
       "      });\n",
       "      // Destroy server and session\n",
       "      var cmd = \"import bokeh.io.notebook as ion; ion.destroy_server('\" + server_id + \"')\";\n",
       "      cell.notebook.kernel.execute(cmd);\n",
       "    }\n",
       "  }\n",
       "\n",
       "  /**\n",
       "   * Handle when a new output is added\n",
       "   */\n",
       "  function handleAddOutput(event, handle) {\n",
       "    var output_area = handle.output_area;\n",
       "    var output = handle.output;\n",
       "\n",
       "    // limit handleAddOutput to display_data with EXEC_MIME_TYPE content only\n",
       "    if ((output.output_type != \"display_data\") || (!output.data.hasOwnProperty(EXEC_MIME_TYPE))) {\n",
       "      return\n",
       "    }\n",
       "\n",
       "    var toinsert = output_area.element.find(\".\" + CLASS_NAME.split(' ')[0]);\n",
       "\n",
       "    if (output.metadata[EXEC_MIME_TYPE][\"id\"] !== undefined) {\n",
       "      toinsert[toinsert.length - 1].firstChild.textContent = output.data[JS_MIME_TYPE];\n",
       "      // store reference to embed id on output_area\n",
       "      output_area._bokeh_element_id = output.metadata[EXEC_MIME_TYPE][\"id\"];\n",
       "    }\n",
       "    if (output.metadata[EXEC_MIME_TYPE][\"server_id\"] !== undefined) {\n",
       "      var bk_div = document.createElement(\"div\");\n",
       "      bk_div.innerHTML = output.data[HTML_MIME_TYPE];\n",
       "      var script_attrs = bk_div.children[0].attributes;\n",
       "      for (var i = 0; i < script_attrs.length; i++) {\n",
       "        toinsert[toinsert.length - 1].firstChild.setAttribute(script_attrs[i].name, script_attrs[i].value);\n",
       "      }\n",
       "      // store reference to server id on output_area\n",
       "      output_area._bokeh_server_id = output.metadata[EXEC_MIME_TYPE][\"server_id\"];\n",
       "    }\n",
       "  }\n",
       "\n",
       "  function register_renderer(events, OutputArea) {\n",
       "\n",
       "    function append_mime(data, metadata, element) {\n",
       "      // create a DOM node to render to\n",
       "      var toinsert = this.create_output_subarea(\n",
       "        metadata,\n",
       "        CLASS_NAME,\n",
       "        EXEC_MIME_TYPE\n",
       "      );\n",
       "      this.keyboard_manager.register_events(toinsert);\n",
       "      // Render to node\n",
       "      var props = {data: data, metadata: metadata[EXEC_MIME_TYPE]};\n",
       "      render(props, toinsert[toinsert.length - 1]);\n",
       "      element.append(toinsert);\n",
       "      return toinsert\n",
       "    }\n",
       "\n",
       "    /* Handle when an output is cleared or removed */\n",
       "    events.on('clear_output.CodeCell', handleClearOutput);\n",
       "    events.on('delete.Cell', handleClearOutput);\n",
       "\n",
       "    /* Handle when a new output is added */\n",
       "    events.on('output_added.OutputArea', handleAddOutput);\n",
       "\n",
       "    /**\n",
       "     * Register the mime type and append_mime function with output_area\n",
       "     */\n",
       "    OutputArea.prototype.register_mime_type(EXEC_MIME_TYPE, append_mime, {\n",
       "      /* Is output safe? */\n",
       "      safe: true,\n",
       "      /* Index of renderer in `output_area.display_order` */\n",
       "      index: 0\n",
       "    });\n",
       "  }\n",
       "\n",
       "  // register the mime type if in Jupyter Notebook environment and previously unregistered\n",
       "  if (root.Jupyter !== undefined) {\n",
       "    var events = require('base/js/events');\n",
       "    var OutputArea = require('notebook/js/outputarea').OutputArea;\n",
       "\n",
       "    if (OutputArea.prototype.mime_types().indexOf(EXEC_MIME_TYPE) == -1) {\n",
       "      register_renderer(events, OutputArea);\n",
       "    }\n",
       "  }\n",
       "\n",
       "  \n",
       "  if (typeof (root._bokeh_timeout) === \"undefined\" || force === true) {\n",
       "    root._bokeh_timeout = Date.now() + 5000;\n",
       "    root._bokeh_failed_load = false;\n",
       "  }\n",
       "\n",
       "  var NB_LOAD_WARNING = {'data': {'text/html':\n",
       "     \"<div style='background-color: #fdd'>\\n\"+\n",
       "     \"<p>\\n\"+\n",
       "     \"BokehJS does not appear to have successfully loaded. If loading BokehJS from CDN, this \\n\"+\n",
       "     \"may be due to a slow or bad network connection. Possible fixes:\\n\"+\n",
       "     \"</p>\\n\"+\n",
       "     \"<ul>\\n\"+\n",
       "     \"<li>re-rerun `output_notebook()` to attempt to load from CDN again, or</li>\\n\"+\n",
       "     \"<li>use INLINE resources instead, as so:</li>\\n\"+\n",
       "     \"</ul>\\n\"+\n",
       "     \"<code>\\n\"+\n",
       "     \"from bokeh.resources import INLINE\\n\"+\n",
       "     \"output_notebook(resources=INLINE)\\n\"+\n",
       "     \"</code>\\n\"+\n",
       "     \"</div>\"}};\n",
       "\n",
       "  function display_loaded() {\n",
       "    var el = document.getElementById(\"1001\");\n",
       "    if (el != null) {\n",
       "      el.textContent = \"BokehJS is loading...\";\n",
       "    }\n",
       "    if (root.Bokeh !== undefined) {\n",
       "      if (el != null) {\n",
       "        el.textContent = \"BokehJS \" + root.Bokeh.version + \" successfully loaded.\";\n",
       "      }\n",
       "    } else if (Date.now() < root._bokeh_timeout) {\n",
       "      setTimeout(display_loaded, 100)\n",
       "    }\n",
       "  }\n",
       "\n",
       "\n",
       "  function run_callbacks() {\n",
       "    try {\n",
       "      root._bokeh_onload_callbacks.forEach(function(callback) {\n",
       "        if (callback != null)\n",
       "          callback();\n",
       "      });\n",
       "    } finally {\n",
       "      delete root._bokeh_onload_callbacks\n",
       "    }\n",
       "    console.debug(\"Bokeh: all callbacks have finished\");\n",
       "  }\n",
       "\n",
       "  function load_libs(css_urls, js_urls, callback) {\n",
       "    if (css_urls == null) css_urls = [];\n",
       "    if (js_urls == null) js_urls = [];\n",
       "\n",
       "    root._bokeh_onload_callbacks.push(callback);\n",
       "    if (root._bokeh_is_loading > 0) {\n",
       "      console.debug(\"Bokeh: BokehJS is being loaded, scheduling callback at\", now());\n",
       "      return null;\n",
       "    }\n",
       "    if (js_urls == null || js_urls.length === 0) {\n",
       "      run_callbacks();\n",
       "      return null;\n",
       "    }\n",
       "    console.debug(\"Bokeh: BokehJS not loaded, scheduling load and callback at\", now());\n",
       "    root._bokeh_is_loading = css_urls.length + js_urls.length;\n",
       "\n",
       "    function on_load() {\n",
       "      root._bokeh_is_loading--;\n",
       "      if (root._bokeh_is_loading === 0) {\n",
       "        console.debug(\"Bokeh: all BokehJS libraries/stylesheets loaded\");\n",
       "        run_callbacks()\n",
       "      }\n",
       "    }\n",
       "\n",
       "    function on_error() {\n",
       "      console.error(\"failed to load \" + url);\n",
       "    }\n",
       "\n",
       "    for (var i = 0; i < css_urls.length; i++) {\n",
       "      var url = css_urls[i];\n",
       "      const element = document.createElement(\"link\");\n",
       "      element.onload = on_load;\n",
       "      element.onerror = on_error;\n",
       "      element.rel = \"stylesheet\";\n",
       "      element.type = \"text/css\";\n",
       "      element.href = url;\n",
       "      console.debug(\"Bokeh: injecting link tag for BokehJS stylesheet: \", url);\n",
       "      document.body.appendChild(element);\n",
       "    }\n",
       "\n",
       "    for (var i = 0; i < js_urls.length; i++) {\n",
       "      var url = js_urls[i];\n",
       "      var element = document.createElement('script');\n",
       "      element.onload = on_load;\n",
       "      element.onerror = on_error;\n",
       "      element.async = false;\n",
       "      element.src = url;\n",
       "      console.debug(\"Bokeh: injecting script tag for BokehJS library: \", url);\n",
       "      document.head.appendChild(element);\n",
       "    }\n",
       "  };var element = document.getElementById(\"1001\");\n",
       "  if (element == null) {\n",
       "    console.error(\"Bokeh: ERROR: autoload.js configured with elementid '1001' but no matching script tag was found. \")\n",
       "    return false;\n",
       "  }\n",
       "\n",
       "  function inject_raw_css(css) {\n",
       "    const element = document.createElement(\"style\");\n",
       "    element.appendChild(document.createTextNode(css));\n",
       "    document.body.appendChild(element);\n",
       "  }\n",
       "\n",
       "  var js_urls = [\"https://cdn.pydata.org/bokeh/release/bokeh-1.2.0.min.js\", \"https://cdn.pydata.org/bokeh/release/bokeh-widgets-1.2.0.min.js\", \"https://cdn.pydata.org/bokeh/release/bokeh-tables-1.2.0.min.js\", \"https://cdn.pydata.org/bokeh/release/bokeh-gl-1.2.0.min.js\"];\n",
       "  var css_urls = [\"https://cdn.pydata.org/bokeh/release/bokeh-1.2.0.min.css\", \"https://cdn.pydata.org/bokeh/release/bokeh-widgets-1.2.0.min.css\", \"https://cdn.pydata.org/bokeh/release/bokeh-tables-1.2.0.min.css\"];\n",
       "\n",
       "  var inline_js = [\n",
       "    function(Bokeh) {\n",
       "      Bokeh.set_log_level(\"info\");\n",
       "    },\n",
       "    \n",
       "    function(Bokeh) {\n",
       "      \n",
       "    },\n",
       "    function(Bokeh) {} // ensure no trailing comma for IE\n",
       "  ];\n",
       "\n",
       "  function run_inline_js() {\n",
       "    \n",
       "    if ((root.Bokeh !== undefined) || (force === true)) {\n",
       "      for (var i = 0; i < inline_js.length; i++) {\n",
       "        inline_js[i].call(root, root.Bokeh);\n",
       "      }if (force === true) {\n",
       "        display_loaded();\n",
       "      }} else if (Date.now() < root._bokeh_timeout) {\n",
       "      setTimeout(run_inline_js, 100);\n",
       "    } else if (!root._bokeh_failed_load) {\n",
       "      console.log(\"Bokeh: BokehJS failed to load within specified timeout.\");\n",
       "      root._bokeh_failed_load = true;\n",
       "    } else if (force !== true) {\n",
       "      var cell = $(document.getElementById(\"1001\")).parents('.cell').data().cell;\n",
       "      cell.output_area.append_execute_result(NB_LOAD_WARNING)\n",
       "    }\n",
       "\n",
       "  }\n",
       "\n",
       "  if (root._bokeh_is_loading === 0) {\n",
       "    console.debug(\"Bokeh: BokehJS loaded, going straight to plotting\");\n",
       "    run_inline_js();\n",
       "  } else {\n",
       "    load_libs(css_urls, js_urls, function() {\n",
       "      console.debug(\"Bokeh: BokehJS plotting callback run at\", now());\n",
       "      run_inline_js();\n",
       "    });\n",
       "  }\n",
       "}(window));"
      ],
      "application/vnd.bokehjs_load.v0+json": "\n(function(root) {\n  function now() {\n    return new Date();\n  }\n\n  var force = true;\n\n  if (typeof root._bokeh_onload_callbacks === \"undefined\" || force === true) {\n    root._bokeh_onload_callbacks = [];\n    root._bokeh_is_loading = undefined;\n  }\n\n  \n\n  \n  if (typeof (root._bokeh_timeout) === \"undefined\" || force === true) {\n    root._bokeh_timeout = Date.now() + 5000;\n    root._bokeh_failed_load = false;\n  }\n\n  var NB_LOAD_WARNING = {'data': {'text/html':\n     \"<div style='background-color: #fdd'>\\n\"+\n     \"<p>\\n\"+\n     \"BokehJS does not appear to have successfully loaded. If loading BokehJS from CDN, this \\n\"+\n     \"may be due to a slow or bad network connection. Possible fixes:\\n\"+\n     \"</p>\\n\"+\n     \"<ul>\\n\"+\n     \"<li>re-rerun `output_notebook()` to attempt to load from CDN again, or</li>\\n\"+\n     \"<li>use INLINE resources instead, as so:</li>\\n\"+\n     \"</ul>\\n\"+\n     \"<code>\\n\"+\n     \"from bokeh.resources import INLINE\\n\"+\n     \"output_notebook(resources=INLINE)\\n\"+\n     \"</code>\\n\"+\n     \"</div>\"}};\n\n  function display_loaded() {\n    var el = document.getElementById(\"1001\");\n    if (el != null) {\n      el.textContent = \"BokehJS is loading...\";\n    }\n    if (root.Bokeh !== undefined) {\n      if (el != null) {\n        el.textContent = \"BokehJS \" + root.Bokeh.version + \" successfully loaded.\";\n      }\n    } else if (Date.now() < root._bokeh_timeout) {\n      setTimeout(display_loaded, 100)\n    }\n  }\n\n\n  function run_callbacks() {\n    try {\n      root._bokeh_onload_callbacks.forEach(function(callback) {\n        if (callback != null)\n          callback();\n      });\n    } finally {\n      delete root._bokeh_onload_callbacks\n    }\n    console.debug(\"Bokeh: all callbacks have finished\");\n  }\n\n  function load_libs(css_urls, js_urls, callback) {\n    if (css_urls == null) css_urls = [];\n    if (js_urls == null) js_urls = [];\n\n    root._bokeh_onload_callbacks.push(callback);\n    if (root._bokeh_is_loading > 0) {\n      console.debug(\"Bokeh: BokehJS is being loaded, scheduling callback at\", now());\n      return null;\n    }\n    if (js_urls == null || js_urls.length === 0) {\n      run_callbacks();\n      return null;\n    }\n    console.debug(\"Bokeh: BokehJS not loaded, scheduling load and callback at\", now());\n    root._bokeh_is_loading = css_urls.length + js_urls.length;\n\n    function on_load() {\n      root._bokeh_is_loading--;\n      if (root._bokeh_is_loading === 0) {\n        console.debug(\"Bokeh: all BokehJS libraries/stylesheets loaded\");\n        run_callbacks()\n      }\n    }\n\n    function on_error() {\n      console.error(\"failed to load \" + url);\n    }\n\n    for (var i = 0; i < css_urls.length; i++) {\n      var url = css_urls[i];\n      const element = document.createElement(\"link\");\n      element.onload = on_load;\n      element.onerror = on_error;\n      element.rel = \"stylesheet\";\n      element.type = \"text/css\";\n      element.href = url;\n      console.debug(\"Bokeh: injecting link tag for BokehJS stylesheet: \", url);\n      document.body.appendChild(element);\n    }\n\n    for (var i = 0; i < js_urls.length; i++) {\n      var url = js_urls[i];\n      var element = document.createElement('script');\n      element.onload = on_load;\n      element.onerror = on_error;\n      element.async = false;\n      element.src = url;\n      console.debug(\"Bokeh: injecting script tag for BokehJS library: \", url);\n      document.head.appendChild(element);\n    }\n  };var element = document.getElementById(\"1001\");\n  if (element == null) {\n    console.error(\"Bokeh: ERROR: autoload.js configured with elementid '1001' but no matching script tag was found. \")\n    return false;\n  }\n\n  function inject_raw_css(css) {\n    const element = document.createElement(\"style\");\n    element.appendChild(document.createTextNode(css));\n    document.body.appendChild(element);\n  }\n\n  var js_urls = [\"https://cdn.pydata.org/bokeh/release/bokeh-1.2.0.min.js\", \"https://cdn.pydata.org/bokeh/release/bokeh-widgets-1.2.0.min.js\", \"https://cdn.pydata.org/bokeh/release/bokeh-tables-1.2.0.min.js\", \"https://cdn.pydata.org/bokeh/release/bokeh-gl-1.2.0.min.js\"];\n  var css_urls = [\"https://cdn.pydata.org/bokeh/release/bokeh-1.2.0.min.css\", \"https://cdn.pydata.org/bokeh/release/bokeh-widgets-1.2.0.min.css\", \"https://cdn.pydata.org/bokeh/release/bokeh-tables-1.2.0.min.css\"];\n\n  var inline_js = [\n    function(Bokeh) {\n      Bokeh.set_log_level(\"info\");\n    },\n    \n    function(Bokeh) {\n      \n    },\n    function(Bokeh) {} // ensure no trailing comma for IE\n  ];\n\n  function run_inline_js() {\n    \n    if ((root.Bokeh !== undefined) || (force === true)) {\n      for (var i = 0; i < inline_js.length; i++) {\n        inline_js[i].call(root, root.Bokeh);\n      }if (force === true) {\n        display_loaded();\n      }} else if (Date.now() < root._bokeh_timeout) {\n      setTimeout(run_inline_js, 100);\n    } else if (!root._bokeh_failed_load) {\n      console.log(\"Bokeh: BokehJS failed to load within specified timeout.\");\n      root._bokeh_failed_load = true;\n    } else if (force !== true) {\n      var cell = $(document.getElementById(\"1001\")).parents('.cell').data().cell;\n      cell.output_area.append_execute_result(NB_LOAD_WARNING)\n    }\n\n  }\n\n  if (root._bokeh_is_loading === 0) {\n    console.debug(\"Bokeh: BokehJS loaded, going straight to plotting\");\n    run_inline_js();\n  } else {\n    load_libs(css_urls, js_urls, function() {\n      console.debug(\"Bokeh: BokehJS plotting callback run at\", now());\n      run_inline_js();\n    });\n  }\n}(window));"
     },
     "metadata": {},
     "output_type": "display_data"
    }
   ],
   "source": [
    "from bokeh.plotting import figure, show\n",
    "from bokeh.embed import components\n",
    "from bokeh.models import CategoricalColorMapper, HoverTool\n",
    "from bokeh.io import output_notebook\n",
    "output_notebook()"
   ]
  },
  {
   "cell_type": "code",
   "execution_count": 587,
   "metadata": {},
   "outputs": [
    {
     "data": {
      "text/html": [
       "<div style=\"display: table;\"><div style=\"display: table-row;\"><div style=\"display: table-cell;\"><b title=\"bokeh.models.renderers.GlyphRenderer\">GlyphRenderer</b>(</div><div style=\"display: table-cell;\">id&nbsp;=&nbsp;'1103', <span id=\"1106\" style=\"cursor: pointer;\">&hellip;)</span></div></div><div class=\"1105\" style=\"display: none;\"><div style=\"display: table-cell;\"></div><div style=\"display: table-cell;\">data_source&nbsp;=&nbsp;ColumnDataSource(id='1100', ...),</div></div><div class=\"1105\" style=\"display: none;\"><div style=\"display: table-cell;\"></div><div style=\"display: table-cell;\">glyph&nbsp;=&nbsp;Circle(id='1101', ...),</div></div><div class=\"1105\" style=\"display: none;\"><div style=\"display: table-cell;\"></div><div style=\"display: table-cell;\">hover_glyph&nbsp;=&nbsp;None,</div></div><div class=\"1105\" style=\"display: none;\"><div style=\"display: table-cell;\"></div><div style=\"display: table-cell;\">js_event_callbacks&nbsp;=&nbsp;{},</div></div><div class=\"1105\" style=\"display: none;\"><div style=\"display: table-cell;\"></div><div style=\"display: table-cell;\">js_property_callbacks&nbsp;=&nbsp;{},</div></div><div class=\"1105\" style=\"display: none;\"><div style=\"display: table-cell;\"></div><div style=\"display: table-cell;\">level&nbsp;=&nbsp;'glyph',</div></div><div class=\"1105\" style=\"display: none;\"><div style=\"display: table-cell;\"></div><div style=\"display: table-cell;\">muted&nbsp;=&nbsp;False,</div></div><div class=\"1105\" style=\"display: none;\"><div style=\"display: table-cell;\"></div><div style=\"display: table-cell;\">muted_glyph&nbsp;=&nbsp;None,</div></div><div class=\"1105\" style=\"display: none;\"><div style=\"display: table-cell;\"></div><div style=\"display: table-cell;\">name&nbsp;=&nbsp;None,</div></div><div class=\"1105\" style=\"display: none;\"><div style=\"display: table-cell;\"></div><div style=\"display: table-cell;\">nonselection_glyph&nbsp;=&nbsp;Circle(id='1102', ...),</div></div><div class=\"1105\" style=\"display: none;\"><div style=\"display: table-cell;\"></div><div style=\"display: table-cell;\">selection_glyph&nbsp;=&nbsp;None,</div></div><div class=\"1105\" style=\"display: none;\"><div style=\"display: table-cell;\"></div><div style=\"display: table-cell;\">subscribed_events&nbsp;=&nbsp;[],</div></div><div class=\"1105\" style=\"display: none;\"><div style=\"display: table-cell;\"></div><div style=\"display: table-cell;\">tags&nbsp;=&nbsp;[],</div></div><div class=\"1105\" style=\"display: none;\"><div style=\"display: table-cell;\"></div><div style=\"display: table-cell;\">view&nbsp;=&nbsp;CDSView(id='1104', ...),</div></div><div class=\"1105\" style=\"display: none;\"><div style=\"display: table-cell;\"></div><div style=\"display: table-cell;\">visible&nbsp;=&nbsp;True,</div></div><div class=\"1105\" style=\"display: none;\"><div style=\"display: table-cell;\"></div><div style=\"display: table-cell;\">x_range_name&nbsp;=&nbsp;'default',</div></div><div class=\"1105\" style=\"display: none;\"><div style=\"display: table-cell;\"></div><div style=\"display: table-cell;\">y_range_name&nbsp;=&nbsp;'default')</div></div></div>\n",
       "<script>\n",
       "(function() {\n",
       "  var expanded = false;\n",
       "  var ellipsis = document.getElementById(\"1106\");\n",
       "  ellipsis.addEventListener(\"click\", function() {\n",
       "    var rows = document.getElementsByClassName(\"1105\");\n",
       "    for (var i = 0; i < rows.length; i++) {\n",
       "      var el = rows[i];\n",
       "      el.style.display = expanded ? \"none\" : \"table-row\";\n",
       "    }\n",
       "    ellipsis.innerHTML = expanded ? \"&hellip;)\" : \"&lsaquo;&lsaquo;&lsaquo;\";\n",
       "    expanded = !expanded;\n",
       "  });\n",
       "})();\n",
       "</script>\n"
      ],
      "text/plain": [
       "GlyphRenderer(id='1103', ...)"
      ]
     },
     "execution_count": 587,
     "metadata": {},
     "output_type": "execute_result"
    }
   ],
   "source": [
    "simpleScatterPlot = figure(plot_width=600, plot_height=600)\n",
    "\n",
    "simpleScatterPlot.circle('PREVAILING_WAGE'],df2_cases2['CASE_SUBMITTED_MONTH'], size=10, color='firebrick', alpha=0.7)"
   ]
  },
  {
   "cell_type": "code",
   "execution_count": 567,
   "metadata": {},
   "outputs": [],
   "source": [
    "employer_name = df2_cases2['EMPLOYER_NAME'].value_counts().index.tolist()\n",
    "employer_petitions = df2_cases2['EMPLOYER_NAME'].value_counts().tolist()\n",
    "employer_petitions\n",
    "df_employer = df2_cases2['EMPLOYER_NAME'].value_counts().to_frame().head(20)\n",
    "df_employer = df_employer.reset_index()\n",
    "df_employer.columns = ['EMPLOYER_NAME','COUNT_H1B']"
   ]
  },
  {
   "cell_type": "code",
   "execution_count": 568,
   "metadata": {},
   "outputs": [],
   "source": [
    "s = df_employer.set_index('EMPLOYER_NAME')['COUNT_H1B']\n",
    "s = s.reset_index()"
   ]
  },
  {
   "cell_type": "code",
   "execution_count": 569,
   "metadata": {},
   "outputs": [
    {
     "data": {
      "image/png": "[encoded data removed]",
      "text/plain": [
       "<Figure size 720x576 with 1 Axes>"
      ]
     },
     "metadata": {
      "needs_background": "light"
     },
     "output_type": "display_data"
    }
   ],
   "source": [
    "plt.figure(figsize=(10,8))\n",
    "sns.barplot(x='COUNT_H1B',y='EMPLOYER_NAME',data=s)\n",
    "plt.title('Top 20 H1B Hires');\n"
   ]
  },
  {
   "cell_type": "code",
   "execution_count": 57,
   "metadata": {},
   "outputs": [
    {
     "data": {
      "text/plain": [
       "COMPUTER OCCUPATION                  222613\n",
       "ANALYSTS                              74538\n",
       "ENGINEERS                             41190\n",
       "FINANCE                               12000\n",
       "DOCTORS                               11390\n",
       "EDUCATION                             10942\n",
       "MARKETING                              8922\n",
       "SCIENTIST                              8254\n",
       "ACCOUNTANTS                            6801\n",
       "IT MANAGERS                            5607\n",
       "MANAGERS                               4613\n",
       "MATHEMATICIANS AND STATISTICIANS       4253\n",
       "HUMAN RESOURCES                        2821\n",
       "ARCHITECTURE                           2141\n",
       "LAWYERS AND LEGAL SUPPORT WORKERS      1929\n",
       "LAB TECHNICIANS                        1862\n",
       "DESIGNERS                              1856\n",
       "GRAPHIC DESIGNERS                      1778\n",
       "LOGISTICIANS                           1569\n",
       "INTERNIST                              1393\n",
       "HEALTHCARE                             1116\n",
       "BUSINESS OPERATIONS SPECIALIST          873\n",
       "ECONOMISTS                              826\n",
       "CONSTRUCTION                            776\n",
       "WRITERS EDITORS AND AUTHORS             747\n",
       "CHIEF EXECUTIVES                        538\n",
       "ENTERTAINMENT                           533\n",
       "PUBLIC RELATIONS                        508\n",
       "ANIMAL HUSBANDARY                       419\n",
       "MULTIMEDIA ARTISTS AND ANIMATORS        352\n",
       "COUNSELORS                              352\n",
       "FASHION DESIGNERS                       304\n",
       "SOCIAL WORKERS                          264\n",
       "FOOD PREPARATION WORKERS                263\n",
       "COACHES AND SCOUTS                      249\n",
       "ACTUARIES                               233\n",
       "SALES AND RELATED WORKERS               203\n",
       "EVENT PLANNERS                          202\n",
       "ENGINEERS                               187\n",
       "INTERPRETERS AND TRANSLATORS            185\n",
       "CURATORS                                138\n",
       "AGRICULTURE                             135\n",
       "REAL ESTATE                             115\n",
       "COMMUNICATIONS                          114\n",
       "SURVEYORS                               107\n",
       "MECHANICS                                95\n",
       "REPORTERS AND CORRESPONDENTS             93\n",
       "INSURANCE                                91\n",
       "FITNESS TRAINERS                         62\n",
       "OFFICE CLERKS                            61\n",
       "MANAGEMENT                               56\n",
       "LIBRARIANS                               53\n",
       "RELIGIOUS WORKERS                        49\n",
       "FIRST LINE SUPERVISORS                   39\n",
       "TRANSPORTATION                           26\n",
       "HISTORIANS                                8\n",
       "Name: SOC_NAME, dtype: int64"
      ]
     },
     "execution_count": 57,
     "metadata": {},
     "output_type": "execute_result"
    }
   ],
   "source": [
    "df2_cases['SOC_NAME'].value_counts()"
   ]
  },
  {
   "cell_type": "code",
   "execution_count": 58,
   "metadata": {},
   "outputs": [],
   "source": [
    "### NAICS code for data science 541512"
   ]
  },
  {
   "cell_type": "code",
   "execution_count": 570,
   "metadata": {},
   "outputs": [],
   "source": [
    "data_sci = df2_cases2[df2_cases2['SOC_NAME'] == 'ANALYSTS']"
   ]
  },
  {
   "cell_type": "code",
   "execution_count": 571,
   "metadata": {},
   "outputs": [],
   "source": [
    "employer = data_sci['EMPLOYER_NAME'].value_counts()\n",
    "employer = employer.reset_index()\n",
    "employer.columns = ['EMPLOYER_NAME','COUNT_H1B']"
   ]
  },
  {
   "cell_type": "code",
   "execution_count": 572,
   "metadata": {},
   "outputs": [],
   "source": [
    "employer = employer.head(20)"
   ]
  },
  {
   "cell_type": "code",
   "execution_count": 573,
   "metadata": {},
   "outputs": [
    {
     "data": {
      "image/png": "[encoded data removed]",
      "text/plain": [
       "<Figure size 720x576 with 1 Axes>"
      ]
     },
     "metadata": {
      "needs_background": "light"
     },
     "output_type": "display_data"
    }
   ],
   "source": [
    "plt.figure(figsize=(10,8))\n",
    "sns.barplot(x='COUNT_H1B',y='EMPLOYER_NAME',data=employer)\n",
    "plt.title('Top 20 H1B Hires in Data Science/Analytics');\n"
   ]
  },
  {
   "cell_type": "markdown",
   "metadata": {},
   "source": [
    "unfortunately data science is new position and UCSIS did not figure out separate encoding for this position. "
   ]
  },
  {
   "cell_type": "code",
   "execution_count": null,
   "metadata": {},
   "outputs": [],
   "source": []
  },
  {
   "cell_type": "code",
   "execution_count": null,
   "metadata": {},
   "outputs": [],
   "source": []
  },
  {
   "cell_type": "code",
   "execution_count": null,
   "metadata": {},
   "outputs": [],
   "source": []
  },
  {
   "cell_type": "code",
   "execution_count": null,
   "metadata": {},
   "outputs": [],
   "source": []
  },
  {
   "cell_type": "code",
   "execution_count": null,
   "metadata": {},
   "outputs": [],
   "source": []
  },
  {
   "cell_type": "code",
   "execution_count": null,
   "metadata": {},
   "outputs": [],
   "source": []
  },
  {
   "cell_type": "code",
   "execution_count": null,
   "metadata": {},
   "outputs": [],
   "source": []
  },
  {
   "cell_type": "code",
   "execution_count": null,
   "metadata": {},
   "outputs": [],
   "source": []
  },
  {
   "cell_type": "markdown",
   "metadata": {},
   "source": [
    "### Logistic regression "
   ]
  },
  {
   "cell_type": "code",
   "execution_count": 63,
   "metadata": {},
   "outputs": [
    {
     "name": "stderr",
     "output_type": "stream",
     "text": [
      "Using TensorFlow backend.\n",
      "/anaconda3/envs/Metis/lib/python3.7/importlib/_bootstrap.py:219: RuntimeWarning:\n",
      "\n",
      "compiletime version 3.6 of module 'tensorflow.python.framework.fast_tensor_util' does not match runtime version 3.7\n",
      "\n"
     ]
    }
   ],
   "source": [
    "from mlxtend.plotting import plot_decision_regions\n",
    "from sklearn import datasets, model_selection\n",
    "from sklearn import linear_model, metrics\n",
    "from sklearn import preprocessing, pipeline\n",
    "from imblearn.over_sampling import SMOTE\n",
    "from sklearn.metrics import classification_report\n",
    "from sklearn.svm import LinearSVC, SVC"
   ]
  },
  {
   "cell_type": "code",
   "execution_count": 64,
   "metadata": {},
   "outputs": [],
   "source": [
    "from collections import Counter\n",
    "import matplotlib.pyplot as plt\n",
    "%matplotlib inline\n",
    "import seaborn as sns"
   ]
  },
  {
   "cell_type": "markdown",
   "metadata": {},
   "source": [
    "### Final Data"
   ]
  },
  {
   "cell_type": "code",
   "execution_count": 427,
   "metadata": {},
   "outputs": [],
   "source": [
    "df2_cases.rename(columns ={'FULL_TIME_POSITION_Y':'FULL_TIME_POSITION_Y(1)_N(0)','H-1B_DEPENDENT_Y':'H-1B_DEPENDENT_Y(1)_N(0)','WILLFUL_VIOLATOR_Y':'WILLFUL_VIOLATOR_Y(1)_N(0)'},inplace=True)"
   ]
  },
  {
   "cell_type": "code",
   "execution_count": 428,
   "metadata": {},
   "outputs": [
    {
     "name": "stdout",
     "output_type": "stream",
     "text": [
      "<class 'pandas.core.frame.DataFrame'>\n",
      "Int64Index: 436844 entries, 109 to 528112\n",
      "Data columns (total 15 columns):\n",
      "CASE_SUBMITTED_DAY              436844 non-null int64\n",
      "CASE_SUBMITTED_MONTH            436844 non-null int64\n",
      "CASE_SUBMITTED_YEAR             436844 non-null int64\n",
      "EMPLOYER_NAME                   436844 non-null object\n",
      "EMPLOYER_STATE                  436844 non-null object\n",
      "SOC_NAME                        436844 non-null object\n",
      "TOTAL_WORKERS                   436844 non-null int64\n",
      "PREVAILING_WAGE                 436844 non-null float64\n",
      "CASE_STATUS                     436844 non-null int64\n",
      "FULL_TIME_POSITION_N            436844 non-null uint8\n",
      "FULL_TIME_POSITION_Y(1)_N(0)    436844 non-null uint8\n",
      "H-1B_DEPENDENT_N                436844 non-null uint8\n",
      "H-1B_DEPENDENT_Y(1)_N(0)        436844 non-null uint8\n",
      "WILLFUL_VIOLATOR_N              436844 non-null uint8\n",
      "WILLFUL_VIOLATOR_Y(1)_N(0)      436844 non-null uint8\n",
      "dtypes: float64(1), int64(5), object(3), uint8(6)\n",
      "memory usage: 35.8+ MB\n"
     ]
    }
   ],
   "source": [
    "df2_cases.info()"
   ]
  },
  {
   "cell_type": "code",
   "execution_count": 429,
   "metadata": {},
   "outputs": [],
   "source": [
    "df2_cases.drop(['FULL_TIME_POSITION_N','H-1B_DEPENDENT_N','WILLFUL_VIOLATOR_N'],axis=1,inplace=True)"
   ]
  },
  {
   "cell_type": "code",
   "execution_count": 430,
   "metadata": {},
   "outputs": [
    {
     "name": "stdout",
     "output_type": "stream",
     "text": [
      "<class 'pandas.core.frame.DataFrame'>\n",
      "Int64Index: 436844 entries, 109 to 528112\n",
      "Data columns (total 12 columns):\n",
      "CASE_SUBMITTED_DAY              436844 non-null int64\n",
      "CASE_SUBMITTED_MONTH            436844 non-null int64\n",
      "CASE_SUBMITTED_YEAR             436844 non-null int64\n",
      "EMPLOYER_NAME                   436844 non-null object\n",
      "EMPLOYER_STATE                  436844 non-null object\n",
      "SOC_NAME                        436844 non-null object\n",
      "TOTAL_WORKERS                   436844 non-null int64\n",
      "PREVAILING_WAGE                 436844 non-null float64\n",
      "CASE_STATUS                     436844 non-null int64\n",
      "FULL_TIME_POSITION_Y(1)_N(0)    436844 non-null uint8\n",
      "H-1B_DEPENDENT_Y(1)_N(0)        436844 non-null uint8\n",
      "WILLFUL_VIOLATOR_Y(1)_N(0)      436844 non-null uint8\n",
      "dtypes: float64(1), int64(5), object(3), uint8(3)\n",
      "memory usage: 34.6+ MB\n"
     ]
    }
   ],
   "source": [
    "df2_cases.info()"
   ]
  },
  {
   "cell_type": "code",
   "execution_count": 207,
   "metadata": {},
   "outputs": [],
   "source": [
    "## connect to another dataframe"
   ]
  },
  {
   "cell_type": "code",
   "execution_count": 431,
   "metadata": {},
   "outputs": [],
   "source": [
    "df_second = pd.read_csv('secondDFF.csv')"
   ]
  },
  {
   "cell_type": "code",
   "execution_count": 432,
   "metadata": {},
   "outputs": [
    {
     "name": "stdout",
     "output_type": "stream",
     "text": [
      "<class 'pandas.core.frame.DataFrame'>\n",
      "RangeIndex: 535317 entries, 0 to 535316\n",
      "Data columns (total 12 columns):\n",
      "CASE_STATUS                     535317 non-null object\n",
      "EMPLOYER_NAME                   535303 non-null object\n",
      "EMPLOYER_STATE                  535282 non-null object\n",
      "SOC_NAME                        535315 non-null object\n",
      "TOTAL_WORKERS                   535317 non-null int64\n",
      "FULL_TIME_POSITION_Y(1)_N(0)    535313 non-null object\n",
      "PREVAILING_WAGE                 535316 non-null float64\n",
      "H-1B_DEPENDENT_Y(1)_N(0)        535310 non-null object\n",
      "WILLFUL_VIOLATOR_Y(1)_N(0)      535309 non-null object\n",
      "CASE_SUBMITTED_YEAR             535317 non-null int64\n",
      "CASE_SUBMITTED_DAY              535317 non-null int64\n",
      "CASE_SUBMITTED_MONTH            535317 non-null int64\n",
      "dtypes: float64(1), int64(4), object(7)\n",
      "memory usage: 49.0+ MB\n"
     ]
    }
   ],
   "source": [
    "df_second.info()"
   ]
  },
  {
   "cell_type": "code",
   "execution_count": 433,
   "metadata": {},
   "outputs": [],
   "source": [
    "df2_cases2 = pd.concat([df2_cases,df_second],axis=0,sort=True)"
   ]
  },
  {
   "cell_type": "code",
   "execution_count": 434,
   "metadata": {},
   "outputs": [],
   "source": [
    "df2_cases2['FULL_TIME_POSITION_Y(1)_N(0)'] = df2_cases2['FULL_TIME_POSITION_Y(1)_N(0)'].replace('N',0)"
   ]
  },
  {
   "cell_type": "code",
   "execution_count": 436,
   "metadata": {},
   "outputs": [],
   "source": [
    "df2_cases2['FULL_TIME_POSITION_Y(1)_N(0)'] = df2_cases2['FULL_TIME_POSITION_Y(1)_N(0)'].replace('Y',1)"
   ]
  },
  {
   "cell_type": "code",
   "execution_count": 437,
   "metadata": {},
   "outputs": [],
   "source": [
    "df2_cases2['H-1B_DEPENDENT_Y(1)_N(0)'] = df2_cases2['H-1B_DEPENDENT_Y(1)_N(0)'].replace('N',0)"
   ]
  },
  {
   "cell_type": "code",
   "execution_count": 438,
   "metadata": {},
   "outputs": [],
   "source": [
    "df2_cases2['H-1B_DEPENDENT_Y(1)_N(0)'] = df2_cases2['H-1B_DEPENDENT_Y(1)_N(0)'].replace('Y',1)"
   ]
  },
  {
   "cell_type": "code",
   "execution_count": 439,
   "metadata": {},
   "outputs": [],
   "source": [
    "df2_cases2['WILLFUL_VIOLATOR_Y(1)_N(0)'] = df2_cases2['WILLFUL_VIOLATOR_Y(1)_N(0)'].replace('Y',1)"
   ]
  },
  {
   "cell_type": "code",
   "execution_count": 440,
   "metadata": {},
   "outputs": [],
   "source": [
    "df2_cases2['WILLFUL_VIOLATOR_Y(1)_N(0)'] = df2_cases2['WILLFUL_VIOLATOR_Y(1)_N(0)'].replace('N',0)"
   ]
  },
  {
   "cell_type": "code",
   "execution_count": 441,
   "metadata": {},
   "outputs": [],
   "source": [
    "df2_cases2['CASE_STATUS'] = df2_cases2['CASE_STATUS'].replace('CERTIFIED',0)\n",
    "df2_cases2['CASE_STATUS'] = df2_cases2['CASE_STATUS'].replace('DENIED',1)\n"
   ]
  },
  {
   "cell_type": "code",
   "execution_count": 442,
   "metadata": {},
   "outputs": [],
   "source": [
    "df2_cases = df2_cases.dropna()"
   ]
  },
  {
   "cell_type": "code",
   "execution_count": 443,
   "metadata": {},
   "outputs": [
    {
     "data": {
      "text/html": [
       "<div>\n",
       "<style scoped>\n",
       "    .dataframe tbody tr th:only-of-type {\n",
       "        vertical-align: middle;\n",
       "    }\n",
       "\n",
       "    .dataframe tbody tr th {\n",
       "        vertical-align: top;\n",
       "    }\n",
       "\n",
       "    .dataframe thead th {\n",
       "        text-align: right;\n",
       "    }\n",
       "</style>\n",
       "<table border=\"1\" class=\"dataframe\">\n",
       "  <thead>\n",
       "    <tr style=\"text-align: right;\">\n",
       "      <th></th>\n",
       "      <th>CASE_SUBMITTED_DAY</th>\n",
       "      <th>CASE_SUBMITTED_MONTH</th>\n",
       "      <th>CASE_SUBMITTED_YEAR</th>\n",
       "      <th>EMPLOYER_NAME</th>\n",
       "      <th>EMPLOYER_STATE</th>\n",
       "      <th>SOC_NAME</th>\n",
       "      <th>TOTAL_WORKERS</th>\n",
       "      <th>PREVAILING_WAGE</th>\n",
       "      <th>CASE_STATUS</th>\n",
       "      <th>FULL_TIME_POSITION_Y(1)_N(0)</th>\n",
       "      <th>H-1B_DEPENDENT_Y(1)_N(0)</th>\n",
       "      <th>WILLFUL_VIOLATOR_Y(1)_N(0)</th>\n",
       "    </tr>\n",
       "  </thead>\n",
       "  <tbody>\n",
       "    <tr>\n",
       "      <th>528066</th>\n",
       "      <td>26</td>\n",
       "      <td>6</td>\n",
       "      <td>2017</td>\n",
       "      <td>WORKSOFT</td>\n",
       "      <td>TX</td>\n",
       "      <td>SCIENTIST</td>\n",
       "      <td>1</td>\n",
       "      <td>60798.0</td>\n",
       "      <td>0</td>\n",
       "      <td>1</td>\n",
       "      <td>0</td>\n",
       "      <td>0</td>\n",
       "    </tr>\n",
       "    <tr>\n",
       "      <th>528067</th>\n",
       "      <td>26</td>\n",
       "      <td>6</td>\n",
       "      <td>2017</td>\n",
       "      <td>WORLD RESOURCES INSTITUTE</td>\n",
       "      <td>DC</td>\n",
       "      <td>SCIENTIST</td>\n",
       "      <td>1</td>\n",
       "      <td>42120.0</td>\n",
       "      <td>0</td>\n",
       "      <td>1</td>\n",
       "      <td>0</td>\n",
       "      <td>0</td>\n",
       "    </tr>\n",
       "    <tr>\n",
       "      <th>528069</th>\n",
       "      <td>26</td>\n",
       "      <td>6</td>\n",
       "      <td>2017</td>\n",
       "      <td>XAVIENT INFORMATION SYSTEMS INC</td>\n",
       "      <td>CA</td>\n",
       "      <td>SCIENTIST</td>\n",
       "      <td>1</td>\n",
       "      <td>80995.0</td>\n",
       "      <td>0</td>\n",
       "      <td>1</td>\n",
       "      <td>1</td>\n",
       "      <td>0</td>\n",
       "    </tr>\n",
       "    <tr>\n",
       "      <th>528070</th>\n",
       "      <td>26</td>\n",
       "      <td>6</td>\n",
       "      <td>2017</td>\n",
       "      <td>XCHANGING SOLUTIONS USA INC</td>\n",
       "      <td>VA</td>\n",
       "      <td>SCIENTIST</td>\n",
       "      <td>10</td>\n",
       "      <td>66373.0</td>\n",
       "      <td>0</td>\n",
       "      <td>1</td>\n",
       "      <td>0</td>\n",
       "      <td>0</td>\n",
       "    </tr>\n",
       "    <tr>\n",
       "      <th>528071</th>\n",
       "      <td>26</td>\n",
       "      <td>6</td>\n",
       "      <td>2017</td>\n",
       "      <td>XP POWER LLC</td>\n",
       "      <td>CA</td>\n",
       "      <td>SCIENTIST</td>\n",
       "      <td>1</td>\n",
       "      <td>124675.0</td>\n",
       "      <td>0</td>\n",
       "      <td>1</td>\n",
       "      <td>0</td>\n",
       "      <td>0</td>\n",
       "    </tr>\n",
       "    <tr>\n",
       "      <th>528072</th>\n",
       "      <td>26</td>\n",
       "      <td>6</td>\n",
       "      <td>2017</td>\n",
       "      <td>XTREAM IT PEOPLE INC</td>\n",
       "      <td>NY</td>\n",
       "      <td>SCIENTIST</td>\n",
       "      <td>1</td>\n",
       "      <td>94619.0</td>\n",
       "      <td>0</td>\n",
       "      <td>1</td>\n",
       "      <td>1</td>\n",
       "      <td>0</td>\n",
       "    </tr>\n",
       "    <tr>\n",
       "      <th>528073</th>\n",
       "      <td>26</td>\n",
       "      <td>6</td>\n",
       "      <td>2017</td>\n",
       "      <td>YAHOO HOLDINGS INC</td>\n",
       "      <td>CA</td>\n",
       "      <td>SCIENTIST</td>\n",
       "      <td>1</td>\n",
       "      <td>147357.0</td>\n",
       "      <td>0</td>\n",
       "      <td>1</td>\n",
       "      <td>0</td>\n",
       "      <td>0</td>\n",
       "    </tr>\n",
       "    <tr>\n",
       "      <th>528074</th>\n",
       "      <td>26</td>\n",
       "      <td>6</td>\n",
       "      <td>2017</td>\n",
       "      <td>YAHOO HOLDINGS INC</td>\n",
       "      <td>CA</td>\n",
       "      <td>SCIENTIST</td>\n",
       "      <td>1</td>\n",
       "      <td>60570.0</td>\n",
       "      <td>0</td>\n",
       "      <td>1</td>\n",
       "      <td>0</td>\n",
       "      <td>0</td>\n",
       "    </tr>\n",
       "    <tr>\n",
       "      <th>528075</th>\n",
       "      <td>26</td>\n",
       "      <td>6</td>\n",
       "      <td>2017</td>\n",
       "      <td>YAHOO HOLDINGS INC</td>\n",
       "      <td>CA</td>\n",
       "      <td>SCIENTIST</td>\n",
       "      <td>1</td>\n",
       "      <td>60570.0</td>\n",
       "      <td>0</td>\n",
       "      <td>1</td>\n",
       "      <td>1</td>\n",
       "      <td>0</td>\n",
       "    </tr>\n",
       "    <tr>\n",
       "      <th>528076</th>\n",
       "      <td>26</td>\n",
       "      <td>6</td>\n",
       "      <td>2017</td>\n",
       "      <td>YAHOO HOLDINGS INC</td>\n",
       "      <td>CA</td>\n",
       "      <td>SCIENTIST</td>\n",
       "      <td>1</td>\n",
       "      <td>134971.0</td>\n",
       "      <td>0</td>\n",
       "      <td>1</td>\n",
       "      <td>1</td>\n",
       "      <td>0</td>\n",
       "    </tr>\n",
       "    <tr>\n",
       "      <th>528077</th>\n",
       "      <td>26</td>\n",
       "      <td>6</td>\n",
       "      <td>2017</td>\n",
       "      <td>YAHOO HOLDINGS INC</td>\n",
       "      <td>CA</td>\n",
       "      <td>SCIENTIST</td>\n",
       "      <td>1</td>\n",
       "      <td>147357.0</td>\n",
       "      <td>0</td>\n",
       "      <td>1</td>\n",
       "      <td>1</td>\n",
       "      <td>0</td>\n",
       "    </tr>\n",
       "    <tr>\n",
       "      <th>528078</th>\n",
       "      <td>26</td>\n",
       "      <td>6</td>\n",
       "      <td>2017</td>\n",
       "      <td>YAHOO HOLDINGS INC</td>\n",
       "      <td>CA</td>\n",
       "      <td>SCIENTIST</td>\n",
       "      <td>1</td>\n",
       "      <td>123647.0</td>\n",
       "      <td>0</td>\n",
       "      <td>1</td>\n",
       "      <td>1</td>\n",
       "      <td>0</td>\n",
       "    </tr>\n",
       "    <tr>\n",
       "      <th>528079</th>\n",
       "      <td>26</td>\n",
       "      <td>6</td>\n",
       "      <td>2017</td>\n",
       "      <td>YAHOO HOLDINGS INC</td>\n",
       "      <td>CA</td>\n",
       "      <td>SCIENTIST</td>\n",
       "      <td>1</td>\n",
       "      <td>134971.0</td>\n",
       "      <td>0</td>\n",
       "      <td>1</td>\n",
       "      <td>0</td>\n",
       "      <td>0</td>\n",
       "    </tr>\n",
       "    <tr>\n",
       "      <th>528080</th>\n",
       "      <td>26</td>\n",
       "      <td>6</td>\n",
       "      <td>2017</td>\n",
       "      <td>YAHOO HOLDINGS INC</td>\n",
       "      <td>CA</td>\n",
       "      <td>SCIENTIST</td>\n",
       "      <td>1</td>\n",
       "      <td>123647.0</td>\n",
       "      <td>0</td>\n",
       "      <td>1</td>\n",
       "      <td>0</td>\n",
       "      <td>0</td>\n",
       "    </tr>\n",
       "    <tr>\n",
       "      <th>528081</th>\n",
       "      <td>26</td>\n",
       "      <td>6</td>\n",
       "      <td>2017</td>\n",
       "      <td>YASH and LUJAN CONSULTING INC</td>\n",
       "      <td>TX</td>\n",
       "      <td>SCIENTIST</td>\n",
       "      <td>1</td>\n",
       "      <td>88421.0</td>\n",
       "      <td>0</td>\n",
       "      <td>1</td>\n",
       "      <td>1</td>\n",
       "      <td>0</td>\n",
       "    </tr>\n",
       "    <tr>\n",
       "      <th>528082</th>\n",
       "      <td>26</td>\n",
       "      <td>6</td>\n",
       "      <td>2017</td>\n",
       "      <td>YASH TECHNOLOGIES INC</td>\n",
       "      <td>IL</td>\n",
       "      <td>SCIENTIST</td>\n",
       "      <td>1</td>\n",
       "      <td>54808.0</td>\n",
       "      <td>0</td>\n",
       "      <td>1</td>\n",
       "      <td>1</td>\n",
       "      <td>0</td>\n",
       "    </tr>\n",
       "    <tr>\n",
       "      <th>528083</th>\n",
       "      <td>26</td>\n",
       "      <td>6</td>\n",
       "      <td>2017</td>\n",
       "      <td>YASH TECHNOLOGIES INC</td>\n",
       "      <td>IL</td>\n",
       "      <td>SCIENTIST</td>\n",
       "      <td>1</td>\n",
       "      <td>71698.0</td>\n",
       "      <td>0</td>\n",
       "      <td>1</td>\n",
       "      <td>1</td>\n",
       "      <td>0</td>\n",
       "    </tr>\n",
       "    <tr>\n",
       "      <th>528086</th>\n",
       "      <td>26</td>\n",
       "      <td>6</td>\n",
       "      <td>2017</td>\n",
       "      <td>YUKON PUBLIC SCHOOLS</td>\n",
       "      <td>OK</td>\n",
       "      <td>SCIENTIST</td>\n",
       "      <td>1</td>\n",
       "      <td>33670.0</td>\n",
       "      <td>0</td>\n",
       "      <td>1</td>\n",
       "      <td>0</td>\n",
       "      <td>0</td>\n",
       "    </tr>\n",
       "    <tr>\n",
       "      <th>528087</th>\n",
       "      <td>26</td>\n",
       "      <td>6</td>\n",
       "      <td>2017</td>\n",
       "      <td>Z AND A INFOTEK CORPORATION</td>\n",
       "      <td>NJ</td>\n",
       "      <td>SCIENTIST</td>\n",
       "      <td>1</td>\n",
       "      <td>90813.0</td>\n",
       "      <td>0</td>\n",
       "      <td>1</td>\n",
       "      <td>1</td>\n",
       "      <td>0</td>\n",
       "    </tr>\n",
       "    <tr>\n",
       "      <th>528089</th>\n",
       "      <td>26</td>\n",
       "      <td>6</td>\n",
       "      <td>2017</td>\n",
       "      <td>ZEON CHEMICALS LP</td>\n",
       "      <td>KY</td>\n",
       "      <td>SCIENTIST</td>\n",
       "      <td>1</td>\n",
       "      <td>87651.0</td>\n",
       "      <td>0</td>\n",
       "      <td>1</td>\n",
       "      <td>0</td>\n",
       "      <td>0</td>\n",
       "    </tr>\n",
       "    <tr>\n",
       "      <th>528090</th>\n",
       "      <td>26</td>\n",
       "      <td>6</td>\n",
       "      <td>2017</td>\n",
       "      <td>ZIMMER INC</td>\n",
       "      <td>IN</td>\n",
       "      <td>SCIENTIST</td>\n",
       "      <td>1</td>\n",
       "      <td>48152.0</td>\n",
       "      <td>0</td>\n",
       "      <td>1</td>\n",
       "      <td>0</td>\n",
       "      <td>0</td>\n",
       "    </tr>\n",
       "    <tr>\n",
       "      <th>528092</th>\n",
       "      <td>26</td>\n",
       "      <td>6</td>\n",
       "      <td>2017</td>\n",
       "      <td>ZS ASSOCIATES INC</td>\n",
       "      <td>IL</td>\n",
       "      <td>SCIENTIST</td>\n",
       "      <td>1</td>\n",
       "      <td>70512.0</td>\n",
       "      <td>0</td>\n",
       "      <td>1</td>\n",
       "      <td>1</td>\n",
       "      <td>0</td>\n",
       "    </tr>\n",
       "    <tr>\n",
       "      <th>528093</th>\n",
       "      <td>26</td>\n",
       "      <td>6</td>\n",
       "      <td>2017</td>\n",
       "      <td>ZS ASSOCIATES INC</td>\n",
       "      <td>IL</td>\n",
       "      <td>SCIENTIST</td>\n",
       "      <td>1</td>\n",
       "      <td>74922.0</td>\n",
       "      <td>0</td>\n",
       "      <td>1</td>\n",
       "      <td>1</td>\n",
       "      <td>0</td>\n",
       "    </tr>\n",
       "    <tr>\n",
       "      <th>528096</th>\n",
       "      <td>28</td>\n",
       "      <td>6</td>\n",
       "      <td>2017</td>\n",
       "      <td>CONNECTICUT CHILDRENS MEDICAL CENTER</td>\n",
       "      <td>CT</td>\n",
       "      <td>SCIENTIST</td>\n",
       "      <td>1</td>\n",
       "      <td>73008.0</td>\n",
       "      <td>1</td>\n",
       "      <td>1</td>\n",
       "      <td>0</td>\n",
       "      <td>0</td>\n",
       "    </tr>\n",
       "    <tr>\n",
       "      <th>528099</th>\n",
       "      <td>28</td>\n",
       "      <td>6</td>\n",
       "      <td>2017</td>\n",
       "      <td>REDEEMSOFT LLC</td>\n",
       "      <td>NJ</td>\n",
       "      <td>SCIENTIST</td>\n",
       "      <td>1</td>\n",
       "      <td>84864.0</td>\n",
       "      <td>1</td>\n",
       "      <td>1</td>\n",
       "      <td>1</td>\n",
       "      <td>0</td>\n",
       "    </tr>\n",
       "    <tr>\n",
       "      <th>528102</th>\n",
       "      <td>29</td>\n",
       "      <td>6</td>\n",
       "      <td>2017</td>\n",
       "      <td>FEATHER TECHNOLOGIES INC</td>\n",
       "      <td>NC</td>\n",
       "      <td>SCIENTIST</td>\n",
       "      <td>1</td>\n",
       "      <td>77688.0</td>\n",
       "      <td>1</td>\n",
       "      <td>1</td>\n",
       "      <td>1</td>\n",
       "      <td>0</td>\n",
       "    </tr>\n",
       "    <tr>\n",
       "      <th>528104</th>\n",
       "      <td>29</td>\n",
       "      <td>6</td>\n",
       "      <td>2017</td>\n",
       "      <td>HEAVEN SPICE USA LLC</td>\n",
       "      <td>NJ</td>\n",
       "      <td>COMPUTER OCCUPATION</td>\n",
       "      <td>1</td>\n",
       "      <td>76294.0</td>\n",
       "      <td>1</td>\n",
       "      <td>1</td>\n",
       "      <td>0</td>\n",
       "      <td>0</td>\n",
       "    </tr>\n",
       "    <tr>\n",
       "      <th>528106</th>\n",
       "      <td>29</td>\n",
       "      <td>6</td>\n",
       "      <td>2017</td>\n",
       "      <td>PRINTCO INC</td>\n",
       "      <td>MD</td>\n",
       "      <td>COMPUTER OCCUPATION</td>\n",
       "      <td>1</td>\n",
       "      <td>44824.0</td>\n",
       "      <td>1</td>\n",
       "      <td>1</td>\n",
       "      <td>0</td>\n",
       "      <td>0</td>\n",
       "    </tr>\n",
       "    <tr>\n",
       "      <th>528109</th>\n",
       "      <td>29</td>\n",
       "      <td>6</td>\n",
       "      <td>2017</td>\n",
       "      <td>SYNTEL INC</td>\n",
       "      <td>MI</td>\n",
       "      <td>EDUCATION</td>\n",
       "      <td>1</td>\n",
       "      <td>91374.0</td>\n",
       "      <td>1</td>\n",
       "      <td>1</td>\n",
       "      <td>1</td>\n",
       "      <td>0</td>\n",
       "    </tr>\n",
       "  </tbody>\n",
       "</table>\n",
       "</div>"
      ],
      "text/plain": [
       "        CASE_SUBMITTED_DAY  CASE_SUBMITTED_MONTH  CASE_SUBMITTED_YEAR                         EMPLOYER_NAME EMPLOYER_STATE             SOC_NAME  TOTAL_WORKERS  PREVAILING_WAGE  CASE_STATUS  FULL_TIME_POSITION_Y(1)_N(0)  H-1B_DEPENDENT_Y(1)_N(0)  WILLFUL_VIOLATOR_Y(1)_N(0)\n",
       "528066                  26                     6                 2017                              WORKSOFT             TX            SCIENTIST              1          60798.0            0                             1                         0                           0\n",
       "528067                  26                     6                 2017             WORLD RESOURCES INSTITUTE             DC            SCIENTIST              1          42120.0            0                             1                         0                           0\n",
       "528069                  26                     6                 2017       XAVIENT INFORMATION SYSTEMS INC             CA            SCIENTIST              1          80995.0            0                             1                         1                           0\n",
       "528070                  26                     6                 2017           XCHANGING SOLUTIONS USA INC             VA            SCIENTIST             10          66373.0            0                             1                         0                           0\n",
       "528071                  26                     6                 2017                          XP POWER LLC             CA            SCIENTIST              1         124675.0            0                             1                         0                           0\n",
       "528072                  26                     6                 2017                  XTREAM IT PEOPLE INC             NY            SCIENTIST              1          94619.0            0                             1                         1                           0\n",
       "528073                  26                     6                 2017                    YAHOO HOLDINGS INC             CA            SCIENTIST              1         147357.0            0                             1                         0                           0\n",
       "528074                  26                     6                 2017                    YAHOO HOLDINGS INC             CA            SCIENTIST              1          60570.0            0                             1                         0                           0\n",
       "528075                  26                     6                 2017                    YAHOO HOLDINGS INC             CA            SCIENTIST              1          60570.0            0                             1                         1                           0\n",
       "528076                  26                     6                 2017                    YAHOO HOLDINGS INC             CA            SCIENTIST              1         134971.0            0                             1                         1                           0\n",
       "528077                  26                     6                 2017                    YAHOO HOLDINGS INC             CA            SCIENTIST              1         147357.0            0                             1                         1                           0\n",
       "528078                  26                     6                 2017                    YAHOO HOLDINGS INC             CA            SCIENTIST              1         123647.0            0                             1                         1                           0\n",
       "528079                  26                     6                 2017                    YAHOO HOLDINGS INC             CA            SCIENTIST              1         134971.0            0                             1                         0                           0\n",
       "528080                  26                     6                 2017                    YAHOO HOLDINGS INC             CA            SCIENTIST              1         123647.0            0                             1                         0                           0\n",
       "528081                  26                     6                 2017         YASH and LUJAN CONSULTING INC             TX            SCIENTIST              1          88421.0            0                             1                         1                           0\n",
       "528082                  26                     6                 2017                 YASH TECHNOLOGIES INC             IL            SCIENTIST              1          54808.0            0                             1                         1                           0\n",
       "528083                  26                     6                 2017                 YASH TECHNOLOGIES INC             IL            SCIENTIST              1          71698.0            0                             1                         1                           0\n",
       "528086                  26                     6                 2017                  YUKON PUBLIC SCHOOLS             OK            SCIENTIST              1          33670.0            0                             1                         0                           0\n",
       "528087                  26                     6                 2017           Z AND A INFOTEK CORPORATION             NJ            SCIENTIST              1          90813.0            0                             1                         1                           0\n",
       "528089                  26                     6                 2017                     ZEON CHEMICALS LP             KY            SCIENTIST              1          87651.0            0                             1                         0                           0\n",
       "528090                  26                     6                 2017                            ZIMMER INC             IN            SCIENTIST              1          48152.0            0                             1                         0                           0\n",
       "528092                  26                     6                 2017                     ZS ASSOCIATES INC             IL            SCIENTIST              1          70512.0            0                             1                         1                           0\n",
       "528093                  26                     6                 2017                     ZS ASSOCIATES INC             IL            SCIENTIST              1          74922.0            0                             1                         1                           0\n",
       "528096                  28                     6                 2017  CONNECTICUT CHILDRENS MEDICAL CENTER             CT            SCIENTIST              1          73008.0            1                             1                         0                           0\n",
       "528099                  28                     6                 2017                        REDEEMSOFT LLC             NJ            SCIENTIST              1          84864.0            1                             1                         1                           0\n",
       "528102                  29                     6                 2017              FEATHER TECHNOLOGIES INC             NC            SCIENTIST              1          77688.0            1                             1                         1                           0\n",
       "528104                  29                     6                 2017                  HEAVEN SPICE USA LLC             NJ  COMPUTER OCCUPATION              1          76294.0            1                             1                         0                           0\n",
       "528106                  29                     6                 2017                           PRINTCO INC             MD  COMPUTER OCCUPATION              1          44824.0            1                             1                         0                           0\n",
       "528109                  29                     6                 2017                            SYNTEL INC             MI            EDUCATION              1          91374.0            1                             1                         1                           0"
      ]
     },
     "execution_count": 443,
     "metadata": {},
     "output_type": "execute_result"
    }
   ],
   "source": [
    "df2_cases[-30:-1]"
   ]
  },
  {
   "cell_type": "code",
   "execution_count": 444,
   "metadata": {},
   "outputs": [],
   "source": [
    "df2_cases[['CASE_STATUS','FULL_TIME_POSITION_Y(1)_N(0)','H-1B_DEPENDENT_Y(1)_N(0)','WILLFUL_VIOLATOR_Y(1)_N(0)']]=df2_cases[['CASE_STATUS','FULL_TIME_POSITION_Y(1)_N(0)','H-1B_DEPENDENT_Y(1)_N(0)','WILLFUL_VIOLATOR_Y(1)_N(0)']].astype(np.uint8)"
   ]
  },
  {
   "cell_type": "code",
   "execution_count": 445,
   "metadata": {},
   "outputs": [
    {
     "name": "stdout",
     "output_type": "stream",
     "text": [
      "<class 'pandas.core.frame.DataFrame'>\n",
      "Int64Index: 436844 entries, 109 to 528112\n",
      "Data columns (total 12 columns):\n",
      "CASE_SUBMITTED_DAY              436844 non-null int64\n",
      "CASE_SUBMITTED_MONTH            436844 non-null int64\n",
      "CASE_SUBMITTED_YEAR             436844 non-null int64\n",
      "EMPLOYER_NAME                   436844 non-null object\n",
      "EMPLOYER_STATE                  436844 non-null object\n",
      "SOC_NAME                        436844 non-null object\n",
      "TOTAL_WORKERS                   436844 non-null int64\n",
      "PREVAILING_WAGE                 436844 non-null float64\n",
      "CASE_STATUS                     436844 non-null uint8\n",
      "FULL_TIME_POSITION_Y(1)_N(0)    436844 non-null uint8\n",
      "H-1B_DEPENDENT_Y(1)_N(0)        436844 non-null uint8\n",
      "WILLFUL_VIOLATOR_Y(1)_N(0)      436844 non-null uint8\n",
      "dtypes: float64(1), int64(4), object(3), uint8(4)\n",
      "memory usage: 31.7+ MB\n"
     ]
    }
   ],
   "source": [
    "df2_cases.info()"
   ]
  },
  {
   "cell_type": "code",
   "execution_count": null,
   "metadata": {},
   "outputs": [],
   "source": []
  },
  {
   "cell_type": "markdown",
   "metadata": {},
   "source": [
    "### Original Features (**do not change)"
   ]
  },
  {
   "cell_type": "code",
   "execution_count": 446,
   "metadata": {},
   "outputs": [],
   "source": [
    "features = ['CASE_SUBMITTED_DAY','CASE_SUBMITTED_MONTH','CASE_SUBMITTED_YEAR','TOTAL_WORKERS','PREVAILING_WAGE','FULL_TIME_POSITION_Y(1)_N(0)','H-1B_DEPENDENT_Y(1)_N(0)','WILLFUL_VIOLATOR_Y(1)_N(0)']\n",
    "X = df2_cases[features]\n",
    "y = df2_cases.CASE_STATUS\n",
    "\n",
    "X_train, X_test, y_train,y_test = model_selection.train_test_split(X,y, test_size=0.2)"
   ]
  },
  {
   "cell_type": "markdown",
   "metadata": {},
   "source": [
    "### Feature Categorisation Functions"
   ]
  },
  {
   "cell_type": "code",
   "execution_count": 459,
   "metadata": {},
   "outputs": [],
   "source": [
    "def wage_categorization(wage):\n",
    "    if wage <=50000:\n",
    "        return \"VERY LOW\"\n",
    "    elif wage >50000 and wage <= 70000:\n",
    "        return \"LOW\"\n",
    "    elif wage >70000 and wage <= 90000:\n",
    "        return \"MEDIUM\"\n",
    "    elif wage >90000 and wage<=150000:\n",
    "        return \"HIGH\"\n",
    "    elif wage >=150000:\n",
    "        return \"VERY HIGH\""
   ]
  },
  {
   "cell_type": "code",
   "execution_count": 460,
   "metadata": {},
   "outputs": [],
   "source": [
    "df2_cases['WAGE_CATEGORY'] = df2_cases['PREVAILING_WAGE'].apply(wage_categorization)"
   ]
  },
  {
   "cell_type": "code",
   "execution_count": 452,
   "metadata": {},
   "outputs": [],
   "source": [
    "soc_counts = df2_cases['SOC_NAME'].value_counts()\n",
    "tech_related = list(soc_counts[soc_counts <= 75000].index)"
   ]
  },
  {
   "cell_type": "code",
   "execution_count": 455,
   "metadata": {},
   "outputs": [],
   "source": [
    "df2_cases['Tech'] = df2_cases['SOC_NAME'].replace(tech_related, 'non_tech')"
   ]
  },
  {
   "cell_type": "code",
   "execution_count": 536,
   "metadata": {},
   "outputs": [
    {
     "data": {
      "text/plain": [
       "0    431734\n",
       "1      5110\n",
       "Name: CASE_STATUS, dtype: int64"
      ]
     },
     "execution_count": 536,
     "metadata": {},
     "output_type": "execute_result"
    }
   ],
   "source": [
    "df2_cases.CASE_STATUS.value_counts()"
   ]
  },
  {
   "cell_type": "code",
   "execution_count": 588,
   "metadata": {},
   "outputs": [],
   "source": [
    "df2_cases.to_csv('finaldf.csv',index=False)"
   ]
  },
  {
   "cell_type": "markdown",
   "metadata": {},
   "source": [
    "### Features with state dummy variables"
   ]
  },
  {
   "cell_type": "code",
   "execution_count": 68,
   "metadata": {},
   "outputs": [],
   "source": [
    "from imblearn.under_sampling import RandomUnderSampler"
   ]
  },
  {
   "cell_type": "code",
   "execution_count": 461,
   "metadata": {},
   "outputs": [],
   "source": [
    "df2_cases_dum = pd.get_dummies(df2_cases, columns=['EMPLOYER_STATE','WAGE_CATEGORY','Tech'])"
   ]
  },
  {
   "cell_type": "code",
   "execution_count": 462,
   "metadata": {},
   "outputs": [
    {
     "data": {
      "text/plain": [
       "Index(['CASE_SUBMITTED_DAY', 'CASE_SUBMITTED_MONTH', 'CASE_SUBMITTED_YEAR', 'EMPLOYER_NAME', 'SOC_NAME', 'TOTAL_WORKERS', 'PREVAILING_WAGE', 'CASE_STATUS', 'FULL_TIME_POSITION_Y(1)_N(0)', 'H-1B_DEPENDENT_Y(1)_N(0)', 'WILLFUL_VIOLATOR_Y(1)_N(0)', 'EMPLOYER_STATE_AK', 'EMPLOYER_STATE_AL', 'EMPLOYER_STATE_AR', 'EMPLOYER_STATE_AS', 'EMPLOYER_STATE_AZ', 'EMPLOYER_STATE_CA', 'EMPLOYER_STATE_CO', 'EMPLOYER_STATE_CT', 'EMPLOYER_STATE_DC', 'EMPLOYER_STATE_DE', 'EMPLOYER_STATE_FL', 'EMPLOYER_STATE_GA', 'EMPLOYER_STATE_GU', 'EMPLOYER_STATE_HI', 'EMPLOYER_STATE_IA', 'EMPLOYER_STATE_ID', 'EMPLOYER_STATE_IL', 'EMPLOYER_STATE_IN', 'EMPLOYER_STATE_KS', 'EMPLOYER_STATE_KY', 'EMPLOYER_STATE_LA', 'EMPLOYER_STATE_MA', 'EMPLOYER_STATE_MD', 'EMPLOYER_STATE_ME', 'EMPLOYER_STATE_MI', 'EMPLOYER_STATE_MN', 'EMPLOYER_STATE_MO', 'EMPLOYER_STATE_MP', 'EMPLOYER_STATE_MS', 'EMPLOYER_STATE_MT', 'EMPLOYER_STATE_NC', 'EMPLOYER_STATE_ND', 'EMPLOYER_STATE_NE', 'EMPLOYER_STATE_NH', 'EMPLOYER_STATE_NJ',\n",
       "       'EMPLOYER_STATE_NM', 'EMPLOYER_STATE_NV', 'EMPLOYER_STATE_NY', 'EMPLOYER_STATE_OH', 'EMPLOYER_STATE_OK', 'EMPLOYER_STATE_OR', 'EMPLOYER_STATE_PA', 'EMPLOYER_STATE_PR', 'EMPLOYER_STATE_RI', 'EMPLOYER_STATE_SC', 'EMPLOYER_STATE_SD', 'EMPLOYER_STATE_TN', 'EMPLOYER_STATE_TX', 'EMPLOYER_STATE_UT', 'EMPLOYER_STATE_VA', 'EMPLOYER_STATE_VI', 'EMPLOYER_STATE_VT', 'EMPLOYER_STATE_WA', 'EMPLOYER_STATE_WI', 'EMPLOYER_STATE_WV', 'EMPLOYER_STATE_WY', 'WAGE_CATEGORY_HIGH', 'WAGE_CATEGORY_LOW', 'WAGE_CATEGORY_MEDIUM', 'WAGE_CATEGORY_VERY HIGH', 'WAGE_CATEGORY_VERY LOW', 'Tech_COMPUTER OCCUPATION', 'Tech_non_tech'],\n",
       "      dtype='object')"
      ]
     },
     "execution_count": 462,
     "metadata": {},
     "output_type": "execute_result"
    }
   ],
   "source": [
    "df2_cases_dum.columns"
   ]
  },
  {
   "cell_type": "code",
   "execution_count": 463,
   "metadata": {},
   "outputs": [],
   "source": [
    "features1 = ['CASE_SUBMITTED_DAY','CASE_SUBMITTED_MONTH','CASE_SUBMITTED_YEAR','TOTAL_WORKERS','PREVAILING_WAGE','FULL_TIME_POSITION_Y(1)_N(0)','H-1B_DEPENDENT_Y(1)_N(0)','WILLFUL_VIOLATOR_Y(1)_N(0)','EMPLOYER_STATE_AL',\n",
    "       'EMPLOYER_STATE_AR', 'EMPLOYER_STATE_AS', 'EMPLOYER_STATE_AZ',\n",
    "       'EMPLOYER_STATE_CA', 'EMPLOYER_STATE_CO', 'EMPLOYER_STATE_CT',\n",
    "       'EMPLOYER_STATE_DC', 'EMPLOYER_STATE_DE', 'EMPLOYER_STATE_FL',\n",
    "       'EMPLOYER_STATE_GA', 'EMPLOYER_STATE_GU', 'EMPLOYER_STATE_HI',\n",
    "       'EMPLOYER_STATE_IA', 'EMPLOYER_STATE_ID', 'EMPLOYER_STATE_IL',\n",
    "       'EMPLOYER_STATE_IN', 'EMPLOYER_STATE_KS', 'EMPLOYER_STATE_KY',\n",
    "       'EMPLOYER_STATE_LA', 'EMPLOYER_STATE_MA', 'EMPLOYER_STATE_MD',\n",
    "       'EMPLOYER_STATE_ME', 'EMPLOYER_STATE_MI', 'EMPLOYER_STATE_MN',\n",
    "       'EMPLOYER_STATE_MO', 'EMPLOYER_STATE_MP', 'EMPLOYER_STATE_MS',\n",
    "       'EMPLOYER_STATE_MT', 'EMPLOYER_STATE_NC', 'EMPLOYER_STATE_ND',\n",
    "       'EMPLOYER_STATE_NE', 'EMPLOYER_STATE_NH', 'EMPLOYER_STATE_NJ',\n",
    "       'EMPLOYER_STATE_NM', 'EMPLOYER_STATE_NV', 'EMPLOYER_STATE_NY',\n",
    "       'EMPLOYER_STATE_OH', 'EMPLOYER_STATE_OK', 'EMPLOYER_STATE_OR',\n",
    "       'EMPLOYER_STATE_PA', 'EMPLOYER_STATE_PR', 'EMPLOYER_STATE_RI',\n",
    "       'EMPLOYER_STATE_SC', 'EMPLOYER_STATE_SD', 'EMPLOYER_STATE_TN',\n",
    "       'EMPLOYER_STATE_TX', 'EMPLOYER_STATE_UT', 'EMPLOYER_STATE_VA',\n",
    "       'EMPLOYER_STATE_VI', 'EMPLOYER_STATE_VT', 'EMPLOYER_STATE_WA',\n",
    "       'EMPLOYER_STATE_WI', 'EMPLOYER_STATE_WV', 'EMPLOYER_STATE_WY',\n",
    "            'WAGE_CATEGORY_HIGH', 'WAGE_CATEGORY_LOW', 'WAGE_CATEGORY_MEDIUM', 'WAGE_CATEGORY_VERY HIGH', 'WAGE_CATEGORY_VERY LOW', 'Tech_COMPUTER OCCUPATION', 'Tech_non_tech']\n",
    "\n",
    "X_d = df2_cases_dum[features1]\n",
    "y_d = df2_cases_dum.CASE_STATUS\n",
    "\n",
    "Xd_train, Xd_test, yd_train,yd_test = model_selection.train_test_split(X_d,y_d, test_size=0.2)\n"
   ]
  },
  {
   "cell_type": "markdown",
   "metadata": {},
   "source": [
    "### Logistic regression "
   ]
  },
  {
   "cell_type": "code",
   "execution_count": 281,
   "metadata": {},
   "outputs": [],
   "source": [
    "import warnings\n",
    "warnings.filterwarnings(\"ignore\")"
   ]
  },
  {
   "cell_type": "code",
   "execution_count": 464,
   "metadata": {},
   "outputs": [],
   "source": [
    "from sklearn.linear_model import LogisticRegression\n",
    "from sklearn.metrics import accuracy_score, fbeta_score, f1_score, precision_score, recall_score"
   ]
  },
  {
   "cell_type": "code",
   "execution_count": 470,
   "metadata": {},
   "outputs": [],
   "source": [
    "X_smoted, y_smoted = SMOTE(random_state=42).fit_sample(Xd_train,yd_train)\n",
    "\n",
    "#X_under, y_under = RandomUnderSampler(random_state=42).fit_sample(Xd_train,yd_train)"
   ]
  },
  {
   "cell_type": "code",
   "execution_count": 473,
   "metadata": {},
   "outputs": [
    {
     "data": {
      "text/plain": [
       "Counter({0: 345367, 1: 345367})"
      ]
     },
     "execution_count": 473,
     "metadata": {},
     "output_type": "execute_result"
    }
   ],
   "source": [
    "Counter(y_smoted)"
   ]
  },
  {
   "cell_type": "code",
   "execution_count": 542,
   "metadata": {},
   "outputs": [],
   "source": [
    "logreg = linear_model.LogisticRegression()\n",
    "logreg.fit(X_smoted, y_smoted)\n",
    "y_pred_prob = logreg.predict_proba(Xd_test)\n",
    "y_pred = logreg.predict(Xd_test)\n",
    "\n"
   ]
  },
  {
   "cell_type": "code",
   "execution_count": 544,
   "metadata": {},
   "outputs": [
    {
     "name": "stdout",
     "output_type": "stream",
     "text": [
      "1 [0.30824963 0.69175037]\n"
     ]
    }
   ],
   "source": [
    "i=30\n",
    "print(y_pred[i],y_pred_prob[i])"
   ]
  },
  {
   "cell_type": "code",
   "execution_count": 562,
   "metadata": {},
   "outputs": [
    {
     "data": {
      "text/plain": [
       "True"
      ]
     },
     "execution_count": 562,
     "metadata": {},
     "output_type": "execute_result"
    }
   ],
   "source": [
    "new_y_pred = y_pred_prob[:,1]>0.2\n",
    "new_y_pred[i]"
   ]
  },
  {
   "cell_type": "code",
   "execution_count": 563,
   "metadata": {},
   "outputs": [
    {
     "name": "stdout",
     "output_type": "stream",
     "text": [
      "              precision    recall  f1-score   support\n",
      "\n",
      "           0       1.00      0.33      0.50     86367\n",
      "           1       0.02      0.94      0.03      1002\n",
      "\n",
      "    accuracy                           0.34     87369\n",
      "   macro avg       0.51      0.64      0.27     87369\n",
      "weighted avg       0.99      0.34      0.50     87369\n",
      "\n"
     ]
    }
   ],
   "source": [
    "# print(classification_report(yd_test, y_pred))\n",
    "print(classification_report(yd_test, new_y_pred))"
   ]
  },
  {
   "cell_type": "markdown",
   "metadata": {},
   "source": [
    "### ROC Curve "
   ]
  },
  {
   "cell_type": "code",
   "execution_count": 172,
   "metadata": {},
   "outputs": [],
   "source": [
    "from sklearn.metrics import roc_auc_score\n",
    "from sklearn.metrics import roc_curve"
   ]
  },
  {
   "cell_type": "code",
   "execution_count": 477,
   "metadata": {},
   "outputs": [
    {
     "data": {
      "image/png": "[encoded data removed]",
      "text/plain": [
       "<Figure size 432x288 with 1 Axes>"
      ]
     },
     "metadata": {
      "needs_background": "light"
     },
     "output_type": "display_data"
    }
   ],
   "source": [
    "logit_roc_auc = roc_auc_score(yd_test, logreg.predict(Xd_test))\n",
    "fpr, tpr, thresholds = roc_curve(yd_test, logreg.predict_proba(Xd_test)[:,1])\n",
    "plt.figure()\n",
    "plt.plot(fpr, tpr, label='Logistic Regression (area = %0.2f)' % logit_roc_auc)\n",
    "plt.plot([0,1],[0,1], 'r--')\n",
    "plt.xlim([0,1])\n",
    "plt.ylim([0.0, 1.05])\n",
    "plt.xlabel('False Positive Rate')\n",
    "plt.ylabel('True Positive Rate')\n",
    "plt.title('ROC Curve')\n",
    "plt.legend(loc=\"lower right\");"
   ]
  },
  {
   "cell_type": "markdown",
   "metadata": {},
   "source": [
    "- Red Diagonal Like shows where the True Positive Rate = False Positive Rate \n",
    "- Since the ROC Curve is to the left of the red like, we know that the propoartion of correctly classified samples that were true positive is the greater than the proportion of the samples that were incorrectly classified as false positives. "
   ]
  },
  {
   "cell_type": "markdown",
   "metadata": {},
   "source": [
    "### Random Forest"
   ]
  },
  {
   "cell_type": "code",
   "execution_count": 174,
   "metadata": {},
   "outputs": [],
   "source": [
    "import subprocess\n",
    "from sklearn.ensemble import BaggingRegressor, RandomForestRegressor\n",
    "from sklearn.tree import DecisionTreeRegressor\n",
    "from imblearn.ensemble import BalancedBaggingClassifier\n",
    "from sklearn.tree import DecisionTreeClassifier\n",
    "from sklearn.metrics import balanced_accuracy_score\n",
    "from sklearn.externals.six import StringIO\n",
    "from imblearn.ensemble import BalancedRandomForestClassifier\n",
    "from imblearn.ensemble import EasyEnsembleClassifier\n"
   ]
  },
  {
   "cell_type": "code",
   "execution_count": 478,
   "metadata": {},
   "outputs": [],
   "source": [
    "brf = BalancedRandomForestClassifier(max_depth=40,n_estimators=100, random_state=0)\n"
   ]
  },
  {
   "cell_type": "code",
   "execution_count": 479,
   "metadata": {},
   "outputs": [
    {
     "data": {
      "text/plain": [
       "BalancedRandomForestClassifier(bootstrap=True, class_weight=None,\n",
       "                               criterion='gini', max_depth=40,\n",
       "                               max_features='auto', max_leaf_nodes=None,\n",
       "                               min_impurity_decrease=0.0, min_samples_leaf=2,\n",
       "                               min_samples_split=2,\n",
       "                               min_weight_fraction_leaf=0.0, n_estimators=100,\n",
       "                               n_jobs=1, oob_score=False, random_state=0,\n",
       "                               replacement=False, sampling_strategy='auto',\n",
       "                               verbose=0, warm_start=False)"
      ]
     },
     "execution_count": 479,
     "metadata": {},
     "output_type": "execute_result"
    }
   ],
   "source": [
    "brf.fit(Xd_train, yd_train)\n"
   ]
  },
  {
   "cell_type": "code",
   "execution_count": 480,
   "metadata": {},
   "outputs": [
    {
     "data": {
      "text/plain": [
       "0.7298249033212882"
      ]
     },
     "execution_count": 480,
     "metadata": {},
     "output_type": "execute_result"
    }
   ],
   "source": [
    "y_pred_r = brf.predict(Xd_test)\n",
    "balanced_accuracy_score(yd_test, y_pred_r)"
   ]
  },
  {
   "cell_type": "code",
   "execution_count": 520,
   "metadata": {},
   "outputs": [
    {
     "name": "stdout",
     "output_type": "stream",
     "text": [
      "Random Forest/Test RMSE: 0.5626371433867408   0.5658970261420837\n",
      "Random Forest/Test RMSE: 0.5613693619031792   0.5641955027932757\n",
      "Random Forest/Test RMSE: 0.5632699640809872   0.5659779234694177\n",
      "Random Forest/Test RMSE: 0.5618330193708271   0.5644388915968289\n",
      "Random Forest/Test RMSE: 0.5603438797824959   0.5633326550562475\n"
     ]
    },
    {
     "data": {
      "text/plain": [
       "<matplotlib.legend.Legend at 0x164927c88>"
      ]
     },
     "execution_count": 520,
     "metadata": {},
     "output_type": "execute_result"
    },
    {
     "data": {
      "image/png": "[encoded data removed]",
      "text/plain": [
       "<Figure size 432x288 with 1 Axes>"
      ]
     },
     "metadata": {
      "needs_background": "light"
     },
     "output_type": "display_data"
    }
   ],
   "source": [
    "depths = range(35,40)\n",
    "train_rmse, test_rmse = [],[]\n",
    "for depth in depths:\n",
    "    decision_tree = BalancedRandomForestClassifier(max_depth=depth, random_state=10)\n",
    "    decision_tree.fit(Xd_train,yd_train)\n",
    "    curr_train_rmse = np.sqrt(mean_squared_error(yd_train,decision_tree.predict(Xd_train)))\n",
    "    curr_test_rmse = np.sqrt(mean_squared_error(yd_test,decision_tree.predict(Xd_test)))\n",
    "    print('Random Forest/Test RMSE:',curr_train_rmse,\" \",curr_test_rmse)\n",
    "    train_rmse.append(curr_train_rmse)\n",
    "    test_rmse.append(curr_test_rmse)\n",
    "    \n",
    "sns.mpl.pyplot.plot(depths, train_rmse,label='train_rmse')\n",
    "sns.mpl.pyplot.plot(depths,test_rmse,label='test_rmse')\n",
    "sns.mpl.pyplot.xlabel('maximum tree depth')\n",
    "sns.mpl.pyplot.ylabel('rmse - lower is better')\n",
    "sns.mpl.pyplot.legend()"
   ]
  },
  {
   "cell_type": "code",
   "execution_count": 482,
   "metadata": {},
   "outputs": [
    {
     "data": {
      "text/plain": [
       "Counter({0: 58707, 1: 28662})"
      ]
     },
     "execution_count": 482,
     "metadata": {},
     "output_type": "execute_result"
    }
   ],
   "source": [
    "Counter(y_pred_r)"
   ]
  },
  {
   "cell_type": "code",
   "execution_count": 591,
   "metadata": {},
   "outputs": [
    {
     "name": "stdout",
     "output_type": "stream",
     "text": [
      "              precision    recall  f1-score   support\n",
      "\n",
      "           0       1.00      0.68      0.81     86367\n",
      "           1       0.03      0.78      0.05      1002\n",
      "\n",
      "    accuracy                           0.68     87369\n",
      "   macro avg       0.51      0.73      0.43     87369\n",
      "weighted avg       0.99      0.68      0.80     87369\n",
      "\n"
     ]
    }
   ],
   "source": [
    "print(classification_report(yd_test, y_pred_r))"
   ]
  },
  {
   "cell_type": "code",
   "execution_count": 605,
   "metadata": {},
   "outputs": [],
   "source": [
    "importance = pd.DataFrame({'Feature':features1, 'importance':brf.feature_importances_}).sort_values(\"importance\", ascending=False)\n"
   ]
  },
  {
   "cell_type": "code",
   "execution_count": 623,
   "metadata": {},
   "outputs": [
    {
     "data": {
      "image/png": "[encoded data removed]",
      "text/plain": [
       "<Figure size 504x1296 with 1 Axes>"
      ]
     },
     "metadata": {
      "needs_background": "light"
     },
     "output_type": "display_data"
    }
   ],
   "source": [
    "plt.figure(figsize=(7, 18))\n",
    "sns.barplot(y=\"Feature\", x=\"importance\", data=importance)\n",
    "plt.show();"
   ]
  },
  {
   "cell_type": "markdown",
   "metadata": {},
   "source": [
    "### Decision Tree"
   ]
  },
  {
   "cell_type": "code",
   "execution_count": 89,
   "metadata": {},
   "outputs": [],
   "source": [
    "from sklearn import linear_model, svm, naive_bayes, neighbors, ensemble\n",
    "from sklearn.metrics import accuracy_score, make_scorer\n",
    "from sklearn.metrics import mean_squared_error, accuracy_score\n",
    "from sklearn.datasets import make_classification\n",
    "from sklearn.metrics import accuracy_score\n",
    "from sklearn.tree import DecisionTreeClassifier\n"
   ]
  },
  {
   "cell_type": "code",
   "execution_count": 90,
   "metadata": {},
   "outputs": [],
   "source": [
    "import pickle\n",
    "import numpy as np\n",
    "from sklearn.model_selection import train_test_split, GridSearchCV, cross_validate\n",
    "from sklearn.tree import export_graphviz\n",
    "import pydot\n",
    "from IPython.display import Image\n",
    "import pydotplus"
   ]
  },
  {
   "cell_type": "markdown",
   "metadata": {},
   "source": [
    "### balance data"
   ]
  },
  {
   "cell_type": "code",
   "execution_count": 523,
   "metadata": {},
   "outputs": [],
   "source": [
    "X_smoted1, y_smoted1 = SMOTE(random_state=42).fit_sample(Xd_train,yd_train)"
   ]
  },
  {
   "cell_type": "code",
   "execution_count": 532,
   "metadata": {},
   "outputs": [],
   "source": [
    "dt_model = DecisionTreeClassifier(max_depth=4, class_weight='balanced')\n",
    "dt_model.fit(X_smoted1, y_smoted1)\n",
    "y_prediction = dt_model.predict(Xd_test)"
   ]
  },
  {
   "cell_type": "code",
   "execution_count": 533,
   "metadata": {},
   "outputs": [
    {
     "name": "stdout",
     "output_type": "stream",
     "text": [
      "              precision    recall  f1-score   support\n",
      "\n",
      "           0       1.00      0.70      0.82     86367\n",
      "           1       0.03      0.71      0.05      1002\n",
      "\n",
      "    accuracy                           0.70     87369\n",
      "   macro avg       0.51      0.70      0.44     87369\n",
      "weighted avg       0.98      0.70      0.81     87369\n",
      "\n"
     ]
    }
   ],
   "source": [
    "print(classification_report(yd_test, y_prediction))"
   ]
  },
  {
   "cell_type": "code",
   "execution_count": 534,
   "metadata": {},
   "outputs": [
    {
     "name": "stdout",
     "output_type": "stream",
     "text": [
      "[[60351 26016]\n",
      " [  294   708]]\n"
     ]
    }
   ],
   "source": [
    "print(metrics.confusion_matrix(yd_test,y_prediction))\n"
   ]
  },
  {
   "cell_type": "code",
   "execution_count": 535,
   "metadata": {},
   "outputs": [
    {
     "data": {
      "image/png": "[encoded data removed]",
      "text/plain": [
       "<IPython.core.display.Image object>"
      ]
     },
     "execution_count": 535,
     "metadata": {},
     "output_type": "execute_result"
    }
   ],
   "source": [
    "dot_data = StringIO()  \n",
    "export_graphviz(dt_model, out_file=dot_data,  \n",
    "                    feature_names=Xd_train.columns.tolist(),  \n",
    "                    filled=True, rounded=True,  \n",
    "                    special_characters=True)  \n",
    "graph = pydotplus.graph_from_dot_data(dot_data.getvalue())\n",
    "\n",
    "Image(graph.create_png())"
   ]
  },
  {
   "cell_type": "code",
   "execution_count": 528,
   "metadata": {},
   "outputs": [
    {
     "name": "stdout",
     "output_type": "stream",
     "text": [
      "Decision Tree Train/Test RMSE: 0.10841944022947345   0.10709154355996926\n",
      "Decision Tree Train/Test RMSE: 0.10839304474759001   0.10709154355996926\n",
      "Decision Tree Train/Test RMSE: 0.1082873984800438   0.10709154355996926\n",
      "Decision Tree Train/Test RMSE: 0.10820809609043978   0.1070380913262625\n",
      "Decision Tree Train/Test RMSE: 0.10819487337442653   0.10698461238646345\n",
      "Decision Tree Train/Test RMSE: 0.10815519552697975   0.10698461238646345\n",
      "Decision Tree Train/Test RMSE: 0.10804931670030107   0.10698461238646345\n",
      "Decision Tree Train/Test RMSE: 0.10787704197036742   0.1070380913262625\n",
      "Decision Tree Train/Test RMSE: 0.1077708898738391   0.10698461238646345\n",
      "Decision Tree Train/Test RMSE: 0.10745180437743881   0.10730508623176593\n",
      "Decision Tree Train/Test RMSE: 0.10715847467071803   0.10783709289517007\n",
      "Decision Tree Train/Test RMSE: 0.10673037418394954   0.10751820478577871\n",
      "Decision Tree Train/Test RMSE: 0.10608498429552757   0.1079431795837815\n"
     ]
    },
    {
     "data": {
      "text/plain": [
       "<matplotlib.legend.Legend at 0x17c77a438>"
      ]
     },
     "execution_count": 528,
     "metadata": {},
     "output_type": "execute_result"
    },
    {
     "data": {
      "image/png": "[encoded data removed]",
      "text/plain": [
       "<Figure size 432x288 with 1 Axes>"
      ]
     },
     "metadata": {
      "needs_background": "light"
     },
     "output_type": "display_data"
    }
   ],
   "source": [
    "depths = range(1,14)\n",
    "train_rmse, test_rmse = [],[]\n",
    "for depth in depths:\n",
    "    decision_tree = DecisionTreeClassifier(max_depth=depth, random_state=10)\n",
    "    decision_tree.fit(Xd_train,yd_train)\n",
    "    curr_train_rmse = np.sqrt(mean_squared_error(yd_train,decision_tree.predict(Xd_train)))\n",
    "    curr_test_rmse = np.sqrt(mean_squared_error(yd_test,decision_tree.predict(Xd_test)))\n",
    "    print('Decision Tree Train/Test RMSE:',curr_train_rmse,\" \",curr_test_rmse)\n",
    "    train_rmse.append(curr_train_rmse)\n",
    "    test_rmse.append(curr_test_rmse)\n",
    "    \n",
    "sns.mpl.pyplot.plot(depths, train_rmse,label='train_rmse')\n",
    "sns.mpl.pyplot.plot(depths,test_rmse,label='test_rmse')\n",
    "sns.mpl.pyplot.xlabel('maximum tree depth')\n",
    "sns.mpl.pyplot.ylabel('rmse - lower is better')\n",
    "sns.mpl.pyplot.legend()"
   ]
  },
  {
   "cell_type": "markdown",
   "metadata": {},
   "source": [
    "### Logistic Regression"
   ]
  },
  {
   "cell_type": "code",
   "execution_count": 511,
   "metadata": {},
   "outputs": [],
   "source": [
    "from sklearn.utils import resample"
   ]
  },
  {
   "cell_type": "code",
   "execution_count": 509,
   "metadata": {},
   "outputs": [],
   "source": [
    "X = pd.concat([Xd_train,yd_train],axis=1)\n",
    "accepted = X[X.CASE_STATUS==0]\n",
    "denied = X[X.CASE_STATUS==1]"
   ]
  },
  {
   "cell_type": "code",
   "execution_count": 514,
   "metadata": {},
   "outputs": [],
   "source": [
    "# upsample minority\n",
    "denied_upsampled = resample(denied,\n",
    "                          replace=True, # sample with replacement\n",
    "                          n_samples=len(accepted), # match number in majority class\n",
    "                          random_state=27) # reproducible results"
   ]
  },
  {
   "cell_type": "code",
   "execution_count": 515,
   "metadata": {},
   "outputs": [],
   "source": [
    "upsampled = pd.concat([accepted, denied_upsampled])"
   ]
  },
  {
   "cell_type": "code",
   "execution_count": 516,
   "metadata": {},
   "outputs": [],
   "source": [
    "y2_train = upsampled.CASE_STATUS\n",
    "X2_train = upsampled.drop('CASE_STATUS', axis=1)"
   ]
  },
  {
   "cell_type": "code",
   "execution_count": 517,
   "metadata": {},
   "outputs": [],
   "source": [
    "upsampled = LogisticRegression(solver='liblinear').fit(X2_train, y2_train)\n"
   ]
  },
  {
   "cell_type": "code",
   "execution_count": 518,
   "metadata": {},
   "outputs": [],
   "source": [
    "upsampled_pred = upsampled.predict(Xd_test)"
   ]
  },
  {
   "cell_type": "code",
   "execution_count": 519,
   "metadata": {},
   "outputs": [
    {
     "name": "stdout",
     "output_type": "stream",
     "text": [
      "              precision    recall  f1-score   support\n",
      "\n",
      "           0       1.00      0.66      0.79     86367\n",
      "           1       0.03      0.76      0.05      1002\n",
      "\n",
      "    accuracy                           0.66     87369\n",
      "   macro avg       0.51      0.71      0.42     87369\n",
      "weighted avg       0.98      0.66      0.79     87369\n",
      "\n"
     ]
    }
   ],
   "source": [
    "print(classification_report(yd_test, upsampled_pred))"
   ]
  },
  {
   "cell_type": "markdown",
   "metadata": {},
   "source": [
    "### XGBoost"
   ]
  },
  {
   "cell_type": "code",
   "execution_count": 111,
   "metadata": {},
   "outputs": [],
   "source": [
    "from xgboost import XGBClassifier"
   ]
  },
  {
   "cell_type": "code",
   "execution_count": 112,
   "metadata": {},
   "outputs": [],
   "source": [
    "xgb_params = {\n",
    "    'eta': 0.05,\n",
    "    'max_depth': 5,\n",
    "    'subsample': 0.7,\n",
    "    'colsample_bytree': 0.7,\n",
    "    'objective': 'reg:linear',\n",
    "    'eval_metric': 'rmse',\n",
    "    'silent': 1\n",
    "}"
   ]
  },
  {
   "cell_type": "code",
   "execution_count": 113,
   "metadata": {},
   "outputs": [],
   "source": [
    "model = XGBClassifier()"
   ]
  },
  {
   "cell_type": "code",
   "execution_count": 114,
   "metadata": {},
   "outputs": [
    {
     "data": {
      "text/plain": [
       "XGBClassifier(base_score=0.5, booster='gbtree', colsample_bylevel=1,\n",
       "              colsample_bytree=1, gamma=0, learning_rate=0.1, max_delta_step=0,\n",
       "              max_depth=3, min_child_weight=1, missing=None, n_estimators=100,\n",
       "              n_jobs=1, nthread=None, objective='binary:logistic',\n",
       "              random_state=0, reg_alpha=0, reg_lambda=1, scale_pos_weight=1,\n",
       "              seed=None, silent=True, subsample=1)"
      ]
     },
     "execution_count": 114,
     "metadata": {},
     "output_type": "execute_result"
    }
   ],
   "source": [
    "model.fit(Xd_train, yd_train)"
   ]
  },
  {
   "cell_type": "code",
   "execution_count": 115,
   "metadata": {},
   "outputs": [],
   "source": [
    "y_predi = model.predict(Xd_test)"
   ]
  },
  {
   "cell_type": "code",
   "execution_count": 116,
   "metadata": {},
   "outputs": [
    {
     "name": "stdout",
     "output_type": "stream",
     "text": [
      "              precision    recall  f1-score   support\n",
      "\n",
      "           0       0.99      1.00      0.99     86332\n",
      "           1       0.00      0.00      0.00      1037\n",
      "\n",
      "    accuracy                           0.99     87369\n",
      "   macro avg       0.49      0.50      0.50     87369\n",
      "weighted avg       0.98      0.99      0.98     87369\n",
      "\n"
     ]
    },
    {
     "name": "stderr",
     "output_type": "stream",
     "text": [
      "/anaconda3/envs/Metis/lib/python3.7/site-packages/sklearn/metrics/classification.py:1437: UndefinedMetricWarning:\n",
      "\n",
      "Precision and F-score are ill-defined and being set to 0.0 in labels with no predicted samples.\n",
      "\n"
     ]
    }
   ],
   "source": [
    "print(classification_report(yd_test, y_predi))"
   ]
  },
  {
   "cell_type": "code",
   "execution_count": null,
   "metadata": {},
   "outputs": [],
   "source": []
  }
 ],
 "metadata": {
  "kernelspec": {
   "display_name": "metis",
   "language": "python",
   "name": "metis"
  },
  "language_info": {
   "codemirror_mode": {
    "name": "ipython",
    "version": 3
   },
   "file_extension": ".py",
   "mimetype": "text/x-python",
   "name": "python",
   "nbconvert_exporter": "python",
   "pygments_lexer": "ipython3",
   "version": "3.7.3"
  }
 },
 "nbformat": 4,
 "nbformat_minor": 2
}
